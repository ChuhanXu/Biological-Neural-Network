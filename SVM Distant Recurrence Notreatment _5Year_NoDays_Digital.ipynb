{
 "cells": [
  {
   "cell_type": "markdown",
   "metadata": {},
   "source": [
    "## LSDB Distant Recurrence Notreatment _5Year_NoDays_Digital"
   ]
  },
  {
   "cell_type": "code",
   "execution_count": 1,
   "metadata": {},
   "outputs": [],
   "source": [
    "import pandas as pd\n",
    "from sklearn.model_selection import GridSearchCV #网格搜索\n",
    "from sklearn.model_selection import train_test_split #将数据集分开成训练集和测试集\n",
    "from sklearn.model_selection import StratifiedShuffleSplit #分层采样\n",
    "import numpy as np\n",
    "from sklearn.model_selection import GridSearchCV\n",
    "import math"
   ]
  },
  {
   "cell_type": "code",
   "execution_count": 4,
   "metadata": {},
   "outputs": [],
   "source": [
    "Distant_Recurrence_5Year_data = pd.read_table('LSDBDistantRecurrenceNotreatment_5Year_NoDays_Digital.txt',delim_whitespace=True)"
   ]
  },
  {
   "cell_type": "code",
   "execution_count": 5,
   "metadata": {},
   "outputs": [
    {
     "data": {
      "text/html": [
       "<div>\n",
       "<style scoped>\n",
       "    .dataframe tbody tr th:only-of-type {\n",
       "        vertical-align: middle;\n",
       "    }\n",
       "\n",
       "    .dataframe tbody tr th {\n",
       "        vertical-align: top;\n",
       "    }\n",
       "\n",
       "    .dataframe thead th {\n",
       "        text-align: right;\n",
       "    }\n",
       "</style>\n",
       "<table border=\"1\" class=\"dataframe\">\n",
       "  <thead>\n",
       "    <tr style=\"text-align: right;\">\n",
       "      <th></th>\n",
       "      <th>race</th>\n",
       "      <th>ethnicity</th>\n",
       "      <th>smoking</th>\n",
       "      <th>alcohol_useage</th>\n",
       "      <th>family_history</th>\n",
       "      <th>age_at_diagnosis</th>\n",
       "      <th>menopause_status</th>\n",
       "      <th>side</th>\n",
       "      <th>TNEG</th>\n",
       "      <th>ER</th>\n",
       "      <th>...</th>\n",
       "      <th>size</th>\n",
       "      <th>grade</th>\n",
       "      <th>invasive</th>\n",
       "      <th>histology2</th>\n",
       "      <th>invasive_tumor_Location</th>\n",
       "      <th>DCIS_level</th>\n",
       "      <th>re_excision</th>\n",
       "      <th>surgical_margins</th>\n",
       "      <th>MRIs_60_surgery</th>\n",
       "      <th>distant_recurrence</th>\n",
       "    </tr>\n",
       "  </thead>\n",
       "  <tbody>\n",
       "    <tr>\n",
       "      <th>0</th>\n",
       "      <td>0</td>\n",
       "      <td>0</td>\n",
       "      <td>0</td>\n",
       "      <td>0</td>\n",
       "      <td>0</td>\n",
       "      <td>0</td>\n",
       "      <td>0</td>\n",
       "      <td>0</td>\n",
       "      <td>0</td>\n",
       "      <td>0</td>\n",
       "      <td>...</td>\n",
       "      <td>0</td>\n",
       "      <td>0</td>\n",
       "      <td>0</td>\n",
       "      <td>0</td>\n",
       "      <td>0</td>\n",
       "      <td>0</td>\n",
       "      <td>0</td>\n",
       "      <td>0</td>\n",
       "      <td>0</td>\n",
       "      <td>0</td>\n",
       "    </tr>\n",
       "    <tr>\n",
       "      <th>1</th>\n",
       "      <td>0</td>\n",
       "      <td>0</td>\n",
       "      <td>0</td>\n",
       "      <td>0</td>\n",
       "      <td>1</td>\n",
       "      <td>1</td>\n",
       "      <td>0</td>\n",
       "      <td>0</td>\n",
       "      <td>0</td>\n",
       "      <td>0</td>\n",
       "      <td>...</td>\n",
       "      <td>1</td>\n",
       "      <td>1</td>\n",
       "      <td>0</td>\n",
       "      <td>0</td>\n",
       "      <td>0</td>\n",
       "      <td>1</td>\n",
       "      <td>0</td>\n",
       "      <td>0</td>\n",
       "      <td>0</td>\n",
       "      <td>0</td>\n",
       "    </tr>\n",
       "    <tr>\n",
       "      <th>2</th>\n",
       "      <td>0</td>\n",
       "      <td>0</td>\n",
       "      <td>0</td>\n",
       "      <td>0</td>\n",
       "      <td>2</td>\n",
       "      <td>2</td>\n",
       "      <td>1</td>\n",
       "      <td>0</td>\n",
       "      <td>0</td>\n",
       "      <td>0</td>\n",
       "      <td>...</td>\n",
       "      <td>0</td>\n",
       "      <td>1</td>\n",
       "      <td>0</td>\n",
       "      <td>0</td>\n",
       "      <td>1</td>\n",
       "      <td>2</td>\n",
       "      <td>0</td>\n",
       "      <td>0</td>\n",
       "      <td>0</td>\n",
       "      <td>0</td>\n",
       "    </tr>\n",
       "    <tr>\n",
       "      <th>3</th>\n",
       "      <td>0</td>\n",
       "      <td>0</td>\n",
       "      <td>0</td>\n",
       "      <td>1</td>\n",
       "      <td>1</td>\n",
       "      <td>0</td>\n",
       "      <td>0</td>\n",
       "      <td>0</td>\n",
       "      <td>0</td>\n",
       "      <td>0</td>\n",
       "      <td>...</td>\n",
       "      <td>0</td>\n",
       "      <td>0</td>\n",
       "      <td>0</td>\n",
       "      <td>0</td>\n",
       "      <td>2</td>\n",
       "      <td>1</td>\n",
       "      <td>0</td>\n",
       "      <td>0</td>\n",
       "      <td>1</td>\n",
       "      <td>0</td>\n",
       "    </tr>\n",
       "    <tr>\n",
       "      <th>4</th>\n",
       "      <td>0</td>\n",
       "      <td>0</td>\n",
       "      <td>0</td>\n",
       "      <td>0</td>\n",
       "      <td>2</td>\n",
       "      <td>1</td>\n",
       "      <td>0</td>\n",
       "      <td>0</td>\n",
       "      <td>0</td>\n",
       "      <td>0</td>\n",
       "      <td>...</td>\n",
       "      <td>0</td>\n",
       "      <td>2</td>\n",
       "      <td>0</td>\n",
       "      <td>0</td>\n",
       "      <td>2</td>\n",
       "      <td>0</td>\n",
       "      <td>0</td>\n",
       "      <td>0</td>\n",
       "      <td>1</td>\n",
       "      <td>0</td>\n",
       "    </tr>\n",
       "  </tbody>\n",
       "</table>\n",
       "<p>5 rows × 32 columns</p>\n",
       "</div>"
      ],
      "text/plain": [
       "   race  ethnicity  smoking  alcohol_useage  family_history  age_at_diagnosis  \\\n",
       "0     0          0        0               0               0                 0   \n",
       "1     0          0        0               0               1                 1   \n",
       "2     0          0        0               0               2                 2   \n",
       "3     0          0        0               1               1                 0   \n",
       "4     0          0        0               0               2                 1   \n",
       "\n",
       "   menopause_status  side  TNEG  ER  ...  size  grade  invasive  histology2  \\\n",
       "0                 0     0     0   0  ...     0      0         0           0   \n",
       "1                 0     0     0   0  ...     1      1         0           0   \n",
       "2                 1     0     0   0  ...     0      1         0           0   \n",
       "3                 0     0     0   0  ...     0      0         0           0   \n",
       "4                 0     0     0   0  ...     0      2         0           0   \n",
       "\n",
       "   invasive_tumor_Location  DCIS_level  re_excision  surgical_margins  \\\n",
       "0                        0           0            0                 0   \n",
       "1                        0           1            0                 0   \n",
       "2                        1           2            0                 0   \n",
       "3                        2           1            0                 0   \n",
       "4                        2           0            0                 0   \n",
       "\n",
       "   MRIs_60_surgery  distant_recurrence  \n",
       "0                0                   0  \n",
       "1                0                   0  \n",
       "2                0                   0  \n",
       "3                1                   0  \n",
       "4                1                   0  \n",
       "\n",
       "[5 rows x 32 columns]"
      ]
     },
     "execution_count": 5,
     "metadata": {},
     "output_type": "execute_result"
    }
   ],
   "source": [
    "Distant_Recurrence_5Year_data.head()"
   ]
  },
  {
   "cell_type": "code",
   "execution_count": 6,
   "metadata": {},
   "outputs": [
    {
     "data": {
      "text/plain": [
       "pandas.core.frame.DataFrame"
      ]
     },
     "execution_count": 6,
     "metadata": {},
     "output_type": "execute_result"
    }
   ],
   "source": [
    "type(Distant_Recurrence_5Year_data)"
   ]
  },
  {
   "cell_type": "code",
   "execution_count": 7,
   "metadata": {},
   "outputs": [
    {
     "data": {
      "text/plain": [
       "race                       int64\n",
       "ethnicity                  int64\n",
       "smoking                    int64\n",
       "alcohol_useage             int64\n",
       "family_history             int64\n",
       "age_at_diagnosis           int64\n",
       "menopause_status           int64\n",
       "side                       int64\n",
       "TNEG                       int64\n",
       "ER                         int64\n",
       "ER_percent                 int64\n",
       "PR                         int64\n",
       "PR_percent                 int64\n",
       "P53                        int64\n",
       "HER2                       int64\n",
       "t_tnm_stage                int64\n",
       "n_tnm_stage                int64\n",
       "stage                      int64\n",
       "lymph_node_removed         int64\n",
       "lymph_node_positive        int64\n",
       "lymph_node_status          int64\n",
       "Histology                  int64\n",
       "size                       int64\n",
       "grade                      int64\n",
       "invasive                   int64\n",
       "histology2                 int64\n",
       "invasive_tumor_Location    int64\n",
       "DCIS_level                 int64\n",
       "re_excision                int64\n",
       "surgical_margins           int64\n",
       "MRIs_60_surgery            int64\n",
       "distant_recurrence         int64\n",
       "dtype: object"
      ]
     },
     "execution_count": 7,
     "metadata": {},
     "output_type": "execute_result"
    }
   ],
   "source": [
    "Distant_Recurrence_5Year_data.dtypes"
   ]
  },
  {
   "cell_type": "code",
   "execution_count": 8,
   "metadata": {},
   "outputs": [
    {
     "data": {
      "text/plain": [
       "32"
      ]
     },
     "execution_count": 8,
     "metadata": {},
     "output_type": "execute_result"
    }
   ],
   "source": [
    "Distant_Recurrence_5Year_data.shape[1]"
   ]
  },
  {
   "cell_type": "code",
   "execution_count": 9,
   "metadata": {},
   "outputs": [
    {
     "data": {
      "text/plain": [
       "0    3752\n",
       "1     437\n",
       "Name: distant_recurrence, dtype: int64"
      ]
     },
     "execution_count": 9,
     "metadata": {},
     "output_type": "execute_result"
    }
   ],
   "source": [
    "Distant_Recurrence_5Year_data['distant_recurrence'].value_counts()"
   ]
  },
  {
   "cell_type": "code",
   "execution_count": 10,
   "metadata": {},
   "outputs": [
    {
     "data": {
      "text/plain": [
       "0.10432084029601336"
      ]
     },
     "execution_count": 10,
     "metadata": {},
     "output_type": "execute_result"
    }
   ],
   "source": [
    "437/(3752+437)"
   ]
  },
  {
   "cell_type": "code",
   "execution_count": 11,
   "metadata": {},
   "outputs": [],
   "source": [
    "#五年复发概率大约是10%，我们的测试集需要按照10% positive 90%negative来划分吗"
   ]
  },
  {
   "cell_type": "code",
   "execution_count": 12,
   "metadata": {},
   "outputs": [
    {
     "data": {
      "text/html": [
       "<div>\n",
       "<style scoped>\n",
       "    .dataframe tbody tr th:only-of-type {\n",
       "        vertical-align: middle;\n",
       "    }\n",
       "\n",
       "    .dataframe tbody tr th {\n",
       "        vertical-align: top;\n",
       "    }\n",
       "\n",
       "    .dataframe thead th {\n",
       "        text-align: right;\n",
       "    }\n",
       "</style>\n",
       "<table border=\"1\" class=\"dataframe\">\n",
       "  <thead>\n",
       "    <tr style=\"text-align: right;\">\n",
       "      <th></th>\n",
       "      <th>race</th>\n",
       "      <th>ethnicity</th>\n",
       "      <th>smoking</th>\n",
       "      <th>alcohol_useage</th>\n",
       "      <th>family_history</th>\n",
       "      <th>age_at_diagnosis</th>\n",
       "      <th>menopause_status</th>\n",
       "      <th>side</th>\n",
       "      <th>TNEG</th>\n",
       "      <th>ER</th>\n",
       "      <th>...</th>\n",
       "      <th>size</th>\n",
       "      <th>grade</th>\n",
       "      <th>invasive</th>\n",
       "      <th>histology2</th>\n",
       "      <th>invasive_tumor_Location</th>\n",
       "      <th>DCIS_level</th>\n",
       "      <th>re_excision</th>\n",
       "      <th>surgical_margins</th>\n",
       "      <th>MRIs_60_surgery</th>\n",
       "      <th>distant_recurrence</th>\n",
       "    </tr>\n",
       "  </thead>\n",
       "  <tbody>\n",
       "    <tr>\n",
       "      <th>18</th>\n",
       "      <td>0</td>\n",
       "      <td>0</td>\n",
       "      <td>0</td>\n",
       "      <td>0</td>\n",
       "      <td>0</td>\n",
       "      <td>2</td>\n",
       "      <td>1</td>\n",
       "      <td>1</td>\n",
       "      <td>0</td>\n",
       "      <td>0</td>\n",
       "      <td>...</td>\n",
       "      <td>2</td>\n",
       "      <td>2</td>\n",
       "      <td>0</td>\n",
       "      <td>0</td>\n",
       "      <td>2</td>\n",
       "      <td>5</td>\n",
       "      <td>1</td>\n",
       "      <td>0</td>\n",
       "      <td>0</td>\n",
       "      <td>1</td>\n",
       "    </tr>\n",
       "    <tr>\n",
       "      <th>21</th>\n",
       "      <td>1</td>\n",
       "      <td>0</td>\n",
       "      <td>1</td>\n",
       "      <td>1</td>\n",
       "      <td>1</td>\n",
       "      <td>0</td>\n",
       "      <td>0</td>\n",
       "      <td>1</td>\n",
       "      <td>0</td>\n",
       "      <td>0</td>\n",
       "      <td>...</td>\n",
       "      <td>0</td>\n",
       "      <td>0</td>\n",
       "      <td>0</td>\n",
       "      <td>2</td>\n",
       "      <td>3</td>\n",
       "      <td>3</td>\n",
       "      <td>0</td>\n",
       "      <td>0</td>\n",
       "      <td>0</td>\n",
       "      <td>1</td>\n",
       "    </tr>\n",
       "    <tr>\n",
       "      <th>22</th>\n",
       "      <td>1</td>\n",
       "      <td>0</td>\n",
       "      <td>0</td>\n",
       "      <td>0</td>\n",
       "      <td>4</td>\n",
       "      <td>1</td>\n",
       "      <td>0</td>\n",
       "      <td>0</td>\n",
       "      <td>0</td>\n",
       "      <td>0</td>\n",
       "      <td>...</td>\n",
       "      <td>0</td>\n",
       "      <td>0</td>\n",
       "      <td>0</td>\n",
       "      <td>0</td>\n",
       "      <td>2</td>\n",
       "      <td>1</td>\n",
       "      <td>0</td>\n",
       "      <td>0</td>\n",
       "      <td>1</td>\n",
       "      <td>1</td>\n",
       "    </tr>\n",
       "    <tr>\n",
       "      <th>25</th>\n",
       "      <td>0</td>\n",
       "      <td>0</td>\n",
       "      <td>1</td>\n",
       "      <td>1</td>\n",
       "      <td>2</td>\n",
       "      <td>2</td>\n",
       "      <td>1</td>\n",
       "      <td>1</td>\n",
       "      <td>0</td>\n",
       "      <td>1</td>\n",
       "      <td>...</td>\n",
       "      <td>1</td>\n",
       "      <td>0</td>\n",
       "      <td>0</td>\n",
       "      <td>0</td>\n",
       "      <td>0</td>\n",
       "      <td>0</td>\n",
       "      <td>0</td>\n",
       "      <td>0</td>\n",
       "      <td>1</td>\n",
       "      <td>1</td>\n",
       "    </tr>\n",
       "    <tr>\n",
       "      <th>26</th>\n",
       "      <td>0</td>\n",
       "      <td>0</td>\n",
       "      <td>1</td>\n",
       "      <td>0</td>\n",
       "      <td>1</td>\n",
       "      <td>2</td>\n",
       "      <td>1</td>\n",
       "      <td>1</td>\n",
       "      <td>0</td>\n",
       "      <td>1</td>\n",
       "      <td>...</td>\n",
       "      <td>0</td>\n",
       "      <td>2</td>\n",
       "      <td>0</td>\n",
       "      <td>0</td>\n",
       "      <td>2</td>\n",
       "      <td>1</td>\n",
       "      <td>0</td>\n",
       "      <td>0</td>\n",
       "      <td>1</td>\n",
       "      <td>1</td>\n",
       "    </tr>\n",
       "    <tr>\n",
       "      <th>42</th>\n",
       "      <td>0</td>\n",
       "      <td>0</td>\n",
       "      <td>1</td>\n",
       "      <td>1</td>\n",
       "      <td>2</td>\n",
       "      <td>1</td>\n",
       "      <td>0</td>\n",
       "      <td>0</td>\n",
       "      <td>1</td>\n",
       "      <td>1</td>\n",
       "      <td>...</td>\n",
       "      <td>2</td>\n",
       "      <td>2</td>\n",
       "      <td>0</td>\n",
       "      <td>0</td>\n",
       "      <td>2</td>\n",
       "      <td>5</td>\n",
       "      <td>0</td>\n",
       "      <td>0</td>\n",
       "      <td>0</td>\n",
       "      <td>1</td>\n",
       "    </tr>\n",
       "    <tr>\n",
       "      <th>57</th>\n",
       "      <td>0</td>\n",
       "      <td>0</td>\n",
       "      <td>1</td>\n",
       "      <td>2</td>\n",
       "      <td>4</td>\n",
       "      <td>1</td>\n",
       "      <td>0</td>\n",
       "      <td>0</td>\n",
       "      <td>0</td>\n",
       "      <td>0</td>\n",
       "      <td>...</td>\n",
       "      <td>1</td>\n",
       "      <td>0</td>\n",
       "      <td>0</td>\n",
       "      <td>0</td>\n",
       "      <td>0</td>\n",
       "      <td>0</td>\n",
       "      <td>0</td>\n",
       "      <td>0</td>\n",
       "      <td>0</td>\n",
       "      <td>1</td>\n",
       "    </tr>\n",
       "    <tr>\n",
       "      <th>59</th>\n",
       "      <td>0</td>\n",
       "      <td>0</td>\n",
       "      <td>1</td>\n",
       "      <td>2</td>\n",
       "      <td>2</td>\n",
       "      <td>1</td>\n",
       "      <td>0</td>\n",
       "      <td>0</td>\n",
       "      <td>0</td>\n",
       "      <td>0</td>\n",
       "      <td>...</td>\n",
       "      <td>1</td>\n",
       "      <td>0</td>\n",
       "      <td>0</td>\n",
       "      <td>0</td>\n",
       "      <td>2</td>\n",
       "      <td>0</td>\n",
       "      <td>0</td>\n",
       "      <td>0</td>\n",
       "      <td>0</td>\n",
       "      <td>1</td>\n",
       "    </tr>\n",
       "    <tr>\n",
       "      <th>71</th>\n",
       "      <td>0</td>\n",
       "      <td>0</td>\n",
       "      <td>2</td>\n",
       "      <td>2</td>\n",
       "      <td>1</td>\n",
       "      <td>1</td>\n",
       "      <td>0</td>\n",
       "      <td>1</td>\n",
       "      <td>0</td>\n",
       "      <td>0</td>\n",
       "      <td>...</td>\n",
       "      <td>1</td>\n",
       "      <td>1</td>\n",
       "      <td>0</td>\n",
       "      <td>2</td>\n",
       "      <td>3</td>\n",
       "      <td>1</td>\n",
       "      <td>1</td>\n",
       "      <td>0</td>\n",
       "      <td>0</td>\n",
       "      <td>1</td>\n",
       "    </tr>\n",
       "    <tr>\n",
       "      <th>80</th>\n",
       "      <td>1</td>\n",
       "      <td>0</td>\n",
       "      <td>1</td>\n",
       "      <td>1</td>\n",
       "      <td>1</td>\n",
       "      <td>1</td>\n",
       "      <td>0</td>\n",
       "      <td>1</td>\n",
       "      <td>0</td>\n",
       "      <td>0</td>\n",
       "      <td>...</td>\n",
       "      <td>2</td>\n",
       "      <td>2</td>\n",
       "      <td>0</td>\n",
       "      <td>0</td>\n",
       "      <td>0</td>\n",
       "      <td>2</td>\n",
       "      <td>0</td>\n",
       "      <td>0</td>\n",
       "      <td>0</td>\n",
       "      <td>1</td>\n",
       "    </tr>\n",
       "  </tbody>\n",
       "</table>\n",
       "<p>10 rows × 32 columns</p>\n",
       "</div>"
      ],
      "text/plain": [
       "    race  ethnicity  smoking  alcohol_useage  family_history  \\\n",
       "18     0          0        0               0               0   \n",
       "21     1          0        1               1               1   \n",
       "22     1          0        0               0               4   \n",
       "25     0          0        1               1               2   \n",
       "26     0          0        1               0               1   \n",
       "42     0          0        1               1               2   \n",
       "57     0          0        1               2               4   \n",
       "59     0          0        1               2               2   \n",
       "71     0          0        2               2               1   \n",
       "80     1          0        1               1               1   \n",
       "\n",
       "    age_at_diagnosis  menopause_status  side  TNEG  ER  ...  size  grade  \\\n",
       "18                 2                 1     1     0   0  ...     2      2   \n",
       "21                 0                 0     1     0   0  ...     0      0   \n",
       "22                 1                 0     0     0   0  ...     0      0   \n",
       "25                 2                 1     1     0   1  ...     1      0   \n",
       "26                 2                 1     1     0   1  ...     0      2   \n",
       "42                 1                 0     0     1   1  ...     2      2   \n",
       "57                 1                 0     0     0   0  ...     1      0   \n",
       "59                 1                 0     0     0   0  ...     1      0   \n",
       "71                 1                 0     1     0   0  ...     1      1   \n",
       "80                 1                 0     1     0   0  ...     2      2   \n",
       "\n",
       "    invasive  histology2  invasive_tumor_Location  DCIS_level  re_excision  \\\n",
       "18         0           0                        2           5            1   \n",
       "21         0           2                        3           3            0   \n",
       "22         0           0                        2           1            0   \n",
       "25         0           0                        0           0            0   \n",
       "26         0           0                        2           1            0   \n",
       "42         0           0                        2           5            0   \n",
       "57         0           0                        0           0            0   \n",
       "59         0           0                        2           0            0   \n",
       "71         0           2                        3           1            1   \n",
       "80         0           0                        0           2            0   \n",
       "\n",
       "    surgical_margins  MRIs_60_surgery  distant_recurrence  \n",
       "18                 0                0                   1  \n",
       "21                 0                0                   1  \n",
       "22                 0                1                   1  \n",
       "25                 0                1                   1  \n",
       "26                 0                1                   1  \n",
       "42                 0                0                   1  \n",
       "57                 0                0                   1  \n",
       "59                 0                0                   1  \n",
       "71                 0                0                   1  \n",
       "80                 0                0                   1  \n",
       "\n",
       "[10 rows x 32 columns]"
      ]
     },
     "execution_count": 12,
     "metadata": {},
     "output_type": "execute_result"
    }
   ],
   "source": [
    "Distant_Recurrence_5Year_data[Distant_Recurrence_5Year_data['distant_recurrence']==1][:10]"
   ]
  },
  {
   "cell_type": "markdown",
   "metadata": {},
   "source": [
    "### Separate Train and Test 80%,20%"
   ]
  },
  {
   "cell_type": "code",
   "execution_count": 13,
   "metadata": {},
   "outputs": [],
   "source": [
    "x = Distant_Recurrence_5Year_data.iloc[:,0:Distant_Recurrence_5Year_data.shape[1]-1]"
   ]
  },
  {
   "cell_type": "code",
   "execution_count": 14,
   "metadata": {},
   "outputs": [
    {
     "data": {
      "text/plain": [
       "(4189, 31)"
      ]
     },
     "execution_count": 14,
     "metadata": {},
     "output_type": "execute_result"
    }
   ],
   "source": [
    "x.shape"
   ]
  },
  {
   "cell_type": "code",
   "execution_count": 15,
   "metadata": {},
   "outputs": [],
   "source": [
    "y = Distant_Recurrence_5Year_data.iloc[:,Distant_Recurrence_5Year_data.shape[1]-1:Distant_Recurrence_5Year_data.shape[1]]"
   ]
  },
  {
   "cell_type": "code",
   "execution_count": 16,
   "metadata": {},
   "outputs": [
    {
     "data": {
      "text/plain": [
       "(4189, 1)"
      ]
     },
     "execution_count": 16,
     "metadata": {},
     "output_type": "execute_result"
    }
   ],
   "source": [
    "y.shape"
   ]
  },
  {
   "cell_type": "code",
   "execution_count": 17,
   "metadata": {},
   "outputs": [],
   "source": [
    "#数据集划分(采用分层划分保证稳定性)\n",
    "seed = 7\n",
    "test_size = 0.2 #20% positive 80% negative"
   ]
  },
  {
   "cell_type": "code",
   "execution_count": 18,
   "metadata": {},
   "outputs": [],
   "source": [
    "split_machine = StratifiedShuffleSplit(n_splits=1, test_size=test_size, random_state=seed)"
   ]
  },
  {
   "cell_type": "code",
   "execution_count": 19,
   "metadata": {},
   "outputs": [],
   "source": [
    "for train_index,test_index in split_machine.split(x,y):\n",
    "    train_set = Distant_Recurrence_5Year_data.loc[train_index]\n",
    "    test_set = Distant_Recurrence_5Year_data.loc[test_index]"
   ]
  },
  {
   "cell_type": "code",
   "execution_count": 20,
   "metadata": {},
   "outputs": [
    {
     "name": "stdout",
     "output_type": "stream",
     "text": [
      "3351 838\n"
     ]
    }
   ],
   "source": [
    "print(len(train_set),len(test_set))"
   ]
  },
  {
   "cell_type": "code",
   "execution_count": 30,
   "metadata": {},
   "outputs": [
    {
     "data": {
      "text/plain": [
       "0.20004774409166864"
      ]
     },
     "execution_count": 30,
     "metadata": {},
     "output_type": "execute_result"
    }
   ],
   "source": [
    "838/(3351+838)"
   ]
  },
  {
   "cell_type": "code",
   "execution_count": 22,
   "metadata": {},
   "outputs": [
    {
     "data": {
      "text/html": [
       "<div>\n",
       "<style scoped>\n",
       "    .dataframe tbody tr th:only-of-type {\n",
       "        vertical-align: middle;\n",
       "    }\n",
       "\n",
       "    .dataframe tbody tr th {\n",
       "        vertical-align: top;\n",
       "    }\n",
       "\n",
       "    .dataframe thead th {\n",
       "        text-align: right;\n",
       "    }\n",
       "</style>\n",
       "<table border=\"1\" class=\"dataframe\">\n",
       "  <thead>\n",
       "    <tr style=\"text-align: right;\">\n",
       "      <th></th>\n",
       "      <th>race</th>\n",
       "      <th>ethnicity</th>\n",
       "      <th>smoking</th>\n",
       "      <th>alcohol_useage</th>\n",
       "      <th>family_history</th>\n",
       "      <th>age_at_diagnosis</th>\n",
       "      <th>menopause_status</th>\n",
       "      <th>side</th>\n",
       "      <th>TNEG</th>\n",
       "      <th>ER</th>\n",
       "      <th>...</th>\n",
       "      <th>size</th>\n",
       "      <th>grade</th>\n",
       "      <th>invasive</th>\n",
       "      <th>histology2</th>\n",
       "      <th>invasive_tumor_Location</th>\n",
       "      <th>DCIS_level</th>\n",
       "      <th>re_excision</th>\n",
       "      <th>surgical_margins</th>\n",
       "      <th>MRIs_60_surgery</th>\n",
       "      <th>distant_recurrence</th>\n",
       "    </tr>\n",
       "  </thead>\n",
       "  <tbody>\n",
       "    <tr>\n",
       "      <th>3822</th>\n",
       "      <td>1</td>\n",
       "      <td>0</td>\n",
       "      <td>2</td>\n",
       "      <td>0</td>\n",
       "      <td>3</td>\n",
       "      <td>1</td>\n",
       "      <td>0</td>\n",
       "      <td>0</td>\n",
       "      <td>0</td>\n",
       "      <td>1</td>\n",
       "      <td>...</td>\n",
       "      <td>2</td>\n",
       "      <td>2</td>\n",
       "      <td>0</td>\n",
       "      <td>0</td>\n",
       "      <td>2</td>\n",
       "      <td>0</td>\n",
       "      <td>0</td>\n",
       "      <td>0</td>\n",
       "      <td>1</td>\n",
       "      <td>0</td>\n",
       "    </tr>\n",
       "    <tr>\n",
       "      <th>2945</th>\n",
       "      <td>0</td>\n",
       "      <td>0</td>\n",
       "      <td>1</td>\n",
       "      <td>0</td>\n",
       "      <td>2</td>\n",
       "      <td>2</td>\n",
       "      <td>1</td>\n",
       "      <td>0</td>\n",
       "      <td>0</td>\n",
       "      <td>0</td>\n",
       "      <td>...</td>\n",
       "      <td>1</td>\n",
       "      <td>0</td>\n",
       "      <td>0</td>\n",
       "      <td>2</td>\n",
       "      <td>3</td>\n",
       "      <td>0</td>\n",
       "      <td>0</td>\n",
       "      <td>0</td>\n",
       "      <td>0</td>\n",
       "      <td>0</td>\n",
       "    </tr>\n",
       "    <tr>\n",
       "      <th>3193</th>\n",
       "      <td>0</td>\n",
       "      <td>0</td>\n",
       "      <td>0</td>\n",
       "      <td>0</td>\n",
       "      <td>2</td>\n",
       "      <td>1</td>\n",
       "      <td>0</td>\n",
       "      <td>1</td>\n",
       "      <td>0</td>\n",
       "      <td>0</td>\n",
       "      <td>...</td>\n",
       "      <td>2</td>\n",
       "      <td>1</td>\n",
       "      <td>0</td>\n",
       "      <td>0</td>\n",
       "      <td>2</td>\n",
       "      <td>3</td>\n",
       "      <td>0</td>\n",
       "      <td>0</td>\n",
       "      <td>1</td>\n",
       "      <td>1</td>\n",
       "    </tr>\n",
       "    <tr>\n",
       "      <th>506</th>\n",
       "      <td>2</td>\n",
       "      <td>0</td>\n",
       "      <td>1</td>\n",
       "      <td>1</td>\n",
       "      <td>0</td>\n",
       "      <td>2</td>\n",
       "      <td>1</td>\n",
       "      <td>0</td>\n",
       "      <td>0</td>\n",
       "      <td>0</td>\n",
       "      <td>...</td>\n",
       "      <td>1</td>\n",
       "      <td>0</td>\n",
       "      <td>1</td>\n",
       "      <td>1</td>\n",
       "      <td>2</td>\n",
       "      <td>0</td>\n",
       "      <td>0</td>\n",
       "      <td>0</td>\n",
       "      <td>1</td>\n",
       "      <td>0</td>\n",
       "    </tr>\n",
       "    <tr>\n",
       "      <th>1407</th>\n",
       "      <td>0</td>\n",
       "      <td>0</td>\n",
       "      <td>1</td>\n",
       "      <td>0</td>\n",
       "      <td>0</td>\n",
       "      <td>1</td>\n",
       "      <td>0</td>\n",
       "      <td>0</td>\n",
       "      <td>0</td>\n",
       "      <td>0</td>\n",
       "      <td>...</td>\n",
       "      <td>1</td>\n",
       "      <td>0</td>\n",
       "      <td>1</td>\n",
       "      <td>1</td>\n",
       "      <td>2</td>\n",
       "      <td>3</td>\n",
       "      <td>1</td>\n",
       "      <td>3</td>\n",
       "      <td>0</td>\n",
       "      <td>0</td>\n",
       "    </tr>\n",
       "  </tbody>\n",
       "</table>\n",
       "<p>5 rows × 32 columns</p>\n",
       "</div>"
      ],
      "text/plain": [
       "      race  ethnicity  smoking  alcohol_useage  family_history  \\\n",
       "3822     1          0        2               0               3   \n",
       "2945     0          0        1               0               2   \n",
       "3193     0          0        0               0               2   \n",
       "506      2          0        1               1               0   \n",
       "1407     0          0        1               0               0   \n",
       "\n",
       "      age_at_diagnosis  menopause_status  side  TNEG  ER  ...  size  grade  \\\n",
       "3822                 1                 0     0     0   1  ...     2      2   \n",
       "2945                 2                 1     0     0   0  ...     1      0   \n",
       "3193                 1                 0     1     0   0  ...     2      1   \n",
       "506                  2                 1     0     0   0  ...     1      0   \n",
       "1407                 1                 0     0     0   0  ...     1      0   \n",
       "\n",
       "      invasive  histology2  invasive_tumor_Location  DCIS_level  re_excision  \\\n",
       "3822         0           0                        2           0            0   \n",
       "2945         0           2                        3           0            0   \n",
       "3193         0           0                        2           3            0   \n",
       "506          1           1                        2           0            0   \n",
       "1407         1           1                        2           3            1   \n",
       "\n",
       "      surgical_margins  MRIs_60_surgery  distant_recurrence  \n",
       "3822                 0                1                   0  \n",
       "2945                 0                0                   0  \n",
       "3193                 0                1                   1  \n",
       "506                  0                1                   0  \n",
       "1407                 3                0                   0  \n",
       "\n",
       "[5 rows x 32 columns]"
      ]
     },
     "execution_count": 22,
     "metadata": {},
     "output_type": "execute_result"
    }
   ],
   "source": [
    "test_set.head()"
   ]
  },
  {
   "cell_type": "code",
   "execution_count": 28,
   "metadata": {},
   "outputs": [
    {
     "data": {
      "text/plain": [
       "0    0.896181\n",
       "1    0.103819\n",
       "Name: distant_recurrence, dtype: float64"
      ]
     },
     "execution_count": 28,
     "metadata": {},
     "output_type": "execute_result"
    }
   ],
   "source": [
    "# 检查测试集结果是否符合分类预期\n",
    "test_set[\"distant_recurrence\"].value_counts() / len(test_set)"
   ]
  },
  {
   "cell_type": "code",
   "execution_count": 29,
   "metadata": {},
   "outputs": [
    {
     "data": {
      "text/plain": [
       "0    0.895554\n",
       "1    0.104446\n",
       "Name: distant_recurrence, dtype: float64"
      ]
     },
     "execution_count": 29,
     "metadata": {},
     "output_type": "execute_result"
    }
   ],
   "source": [
    "# 检查训练集结果是否符合分类预期\n",
    "train_set[\"distant_recurrence\"].value_counts() / len(train_set)"
   ]
  },
  {
   "cell_type": "code",
   "execution_count": 51,
   "metadata": {},
   "outputs": [],
   "source": [
    "## 5-fold cross validation SVM\n",
    "X_train = train_set.iloc[:,0:train_set.shape[1]-1]"
   ]
  },
  {
   "cell_type": "code",
   "execution_count": 52,
   "metadata": {},
   "outputs": [],
   "source": [
    "X_test = test_set.iloc[:,0:train_set.shape[1]-1]"
   ]
  },
  {
   "cell_type": "code",
   "execution_count": 53,
   "metadata": {},
   "outputs": [],
   "source": [
    "y_train = train_set.iloc[:,Distant_Recurrence_5Year_data.shape[1]-1:Distant_Recurrence_5Year_data.shape[1]]"
   ]
  },
  {
   "cell_type": "code",
   "execution_count": 54,
   "metadata": {},
   "outputs": [],
   "source": [
    "y_test = test_set.iloc[:,Distant_Recurrence_5Year_data.shape[1]-1:Distant_Recurrence_5Year_data.shape[1]]"
   ]
  },
  {
   "cell_type": "code",
   "execution_count": 39,
   "metadata": {},
   "outputs": [],
   "source": [
    "y_train = test_set.iloc[:,0:train_set.shape[1]-1]"
   ]
  },
  {
   "cell_type": "code",
   "execution_count": 41,
   "metadata": {},
   "outputs": [],
   "source": [
    "y_test = test_set.iloc[:,Distant_Recurrence_5Year_data.shape[1]-1:Distant_Recurrence_5Year_data.shape[1]]"
   ]
  },
  {
   "cell_type": "code",
   "execution_count": 55,
   "metadata": {},
   "outputs": [
    {
     "name": "stderr",
     "output_type": "stream",
     "text": [
      "C:\\Users\\xuchu\\anaconda3\\lib\\site-packages\\sklearn\\utils\\validation.py:760: DataConversionWarning: A column-vector y was passed when a 1d array was expected. Please change the shape of y to (n_samples, ), for example using ravel().\n",
      "  y = column_or_1d(y, warn=True)\n"
     ]
    },
    {
     "data": {
      "text/plain": [
       "SVC(C=1.0, break_ties=False, cache_size=200, class_weight=None, coef0=0.0,\n",
       "    decision_function_shape='ovr', degree=3, gamma='scale', kernel='linear',\n",
       "    max_iter=-1, probability=False, random_state=0, shrinking=True, tol=0.001,\n",
       "    verbose=False)"
      ]
     },
     "execution_count": 55,
     "metadata": {},
     "output_type": "execute_result"
    }
   ],
   "source": [
    "from sklearn.svm import SVC\n",
    "svm_classifier = SVC(kernel = 'linear',random_state = 0)\n",
    "svm_classifier.fit(X_train,y_train)"
   ]
  },
  {
   "cell_type": "code",
   "execution_count": 56,
   "metadata": {},
   "outputs": [],
   "source": [
    "y_pred = svm_classifier.predict(X_test)"
   ]
  },
  {
   "cell_type": "code",
   "execution_count": 57,
   "metadata": {},
   "outputs": [],
   "source": [
    "from sklearn.metrics import confusion_matrix\n",
    "cm = confusion_matrix(y_test,y_pred)"
   ]
  },
  {
   "cell_type": "code",
   "execution_count": 58,
   "metadata": {},
   "outputs": [
    {
     "data": {
      "text/plain": [
       "array([[751,   0],\n",
       "       [ 87,   0]], dtype=int64)"
      ]
     },
     "execution_count": 58,
     "metadata": {},
     "output_type": "execute_result"
    }
   ],
   "source": [
    "cm"
   ]
  },
  {
   "cell_type": "code",
   "execution_count": 59,
   "metadata": {},
   "outputs": [],
   "source": [
    "from sklearn.metrics import accuracy_score\n",
    "\n",
    "accuracy = accuracy_score(y_test,y_pred)"
   ]
  },
  {
   "cell_type": "code",
   "execution_count": 60,
   "metadata": {},
   "outputs": [
    {
     "data": {
      "text/plain": [
       "0.89618138424821"
      ]
     },
     "execution_count": 60,
     "metadata": {},
     "output_type": "execute_result"
    }
   ],
   "source": [
    "accuracy"
   ]
  },
  {
   "cell_type": "code",
   "execution_count": 72,
   "metadata": {},
   "outputs": [
    {
     "name": "stderr",
     "output_type": "stream",
     "text": [
      "C:\\Users\\xuchu\\anaconda3\\lib\\site-packages\\sklearn\\model_selection\\_validation.py:536: FitFailedWarning: Estimator fit failed. The score on this train-test partition for these parameters will be set to nan. Details: \n",
      "ValueError: gamma < 0\n",
      "\n",
      "  FitFailedWarning)\n",
      "C:\\Users\\xuchu\\anaconda3\\lib\\site-packages\\sklearn\\model_selection\\_validation.py:536: FitFailedWarning: Estimator fit failed. The score on this train-test partition for these parameters will be set to nan. Details: \n",
      "ValueError: gamma < 0\n",
      "\n",
      "  FitFailedWarning)\n",
      "C:\\Users\\xuchu\\anaconda3\\lib\\site-packages\\sklearn\\model_selection\\_validation.py:536: FitFailedWarning: Estimator fit failed. The score on this train-test partition for these parameters will be set to nan. Details: \n",
      "ValueError: gamma < 0\n",
      "\n",
      "  FitFailedWarning)\n",
      "C:\\Users\\xuchu\\anaconda3\\lib\\site-packages\\sklearn\\model_selection\\_validation.py:536: FitFailedWarning: Estimator fit failed. The score on this train-test partition for these parameters will be set to nan. Details: \n",
      "ValueError: gamma < 0\n",
      "\n",
      "  FitFailedWarning)\n",
      "C:\\Users\\xuchu\\anaconda3\\lib\\site-packages\\sklearn\\model_selection\\_validation.py:536: FitFailedWarning: Estimator fit failed. The score on this train-test partition for these parameters will be set to nan. Details: \n",
      "ValueError: gamma < 0\n",
      "\n",
      "  FitFailedWarning)\n",
      "C:\\Users\\xuchu\\anaconda3\\lib\\site-packages\\sklearn\\model_selection\\_validation.py:536: FitFailedWarning: Estimator fit failed. The score on this train-test partition for these parameters will be set to nan. Details: \n",
      "ValueError: gamma < 0\n",
      "\n",
      "  FitFailedWarning)\n",
      "C:\\Users\\xuchu\\anaconda3\\lib\\site-packages\\sklearn\\model_selection\\_validation.py:536: FitFailedWarning: Estimator fit failed. The score on this train-test partition for these parameters will be set to nan. Details: \n",
      "ValueError: gamma < 0\n",
      "\n",
      "  FitFailedWarning)\n",
      "C:\\Users\\xuchu\\anaconda3\\lib\\site-packages\\sklearn\\model_selection\\_validation.py:536: FitFailedWarning: Estimator fit failed. The score on this train-test partition for these parameters will be set to nan. Details: \n",
      "ValueError: gamma < 0\n",
      "\n",
      "  FitFailedWarning)\n",
      "C:\\Users\\xuchu\\anaconda3\\lib\\site-packages\\sklearn\\model_selection\\_validation.py:536: FitFailedWarning: Estimator fit failed. The score on this train-test partition for these parameters will be set to nan. Details: \n",
      "ValueError: gamma < 0\n",
      "\n",
      "  FitFailedWarning)\n",
      "C:\\Users\\xuchu\\anaconda3\\lib\\site-packages\\sklearn\\model_selection\\_validation.py:536: FitFailedWarning: Estimator fit failed. The score on this train-test partition for these parameters will be set to nan. Details: \n",
      "ValueError: gamma < 0\n",
      "\n",
      "  FitFailedWarning)\n",
      "C:\\Users\\xuchu\\anaconda3\\lib\\site-packages\\sklearn\\model_selection\\_validation.py:536: FitFailedWarning: Estimator fit failed. The score on this train-test partition for these parameters will be set to nan. Details: \n",
      "ValueError: gamma < 0\n",
      "\n",
      "  FitFailedWarning)\n",
      "C:\\Users\\xuchu\\anaconda3\\lib\\site-packages\\sklearn\\model_selection\\_validation.py:536: FitFailedWarning: Estimator fit failed. The score on this train-test partition for these parameters will be set to nan. Details: \n",
      "ValueError: gamma < 0\n",
      "\n",
      "  FitFailedWarning)\n",
      "C:\\Users\\xuchu\\anaconda3\\lib\\site-packages\\sklearn\\model_selection\\_validation.py:536: FitFailedWarning: Estimator fit failed. The score on this train-test partition for these parameters will be set to nan. Details: \n",
      "ValueError: gamma < 0\n",
      "\n",
      "  FitFailedWarning)\n",
      "C:\\Users\\xuchu\\anaconda3\\lib\\site-packages\\sklearn\\model_selection\\_validation.py:536: FitFailedWarning: Estimator fit failed. The score on this train-test partition for these parameters will be set to nan. Details: \n",
      "ValueError: gamma < 0\n",
      "\n",
      "  FitFailedWarning)\n",
      "C:\\Users\\xuchu\\anaconda3\\lib\\site-packages\\sklearn\\model_selection\\_validation.py:536: FitFailedWarning: Estimator fit failed. The score on this train-test partition for these parameters will be set to nan. Details: \n",
      "ValueError: gamma < 0\n",
      "\n",
      "  FitFailedWarning)\n",
      "C:\\Users\\xuchu\\anaconda3\\lib\\site-packages\\sklearn\\model_selection\\_validation.py:536: FitFailedWarning: Estimator fit failed. The score on this train-test partition for these parameters will be set to nan. Details: \n",
      "ValueError: gamma < 0\n",
      "\n",
      "  FitFailedWarning)\n",
      "C:\\Users\\xuchu\\anaconda3\\lib\\site-packages\\sklearn\\model_selection\\_validation.py:536: FitFailedWarning: Estimator fit failed. The score on this train-test partition for these parameters will be set to nan. Details: \n",
      "ValueError: gamma < 0\n",
      "\n",
      "  FitFailedWarning)\n",
      "C:\\Users\\xuchu\\anaconda3\\lib\\site-packages\\sklearn\\model_selection\\_validation.py:536: FitFailedWarning: Estimator fit failed. The score on this train-test partition for these parameters will be set to nan. Details: \n",
      "ValueError: gamma < 0\n",
      "\n",
      "  FitFailedWarning)\n",
      "C:\\Users\\xuchu\\anaconda3\\lib\\site-packages\\sklearn\\model_selection\\_validation.py:536: FitFailedWarning: Estimator fit failed. The score on this train-test partition for these parameters will be set to nan. Details: \n",
      "ValueError: gamma < 0\n",
      "\n",
      "  FitFailedWarning)\n",
      "C:\\Users\\xuchu\\anaconda3\\lib\\site-packages\\sklearn\\model_selection\\_validation.py:536: FitFailedWarning: Estimator fit failed. The score on this train-test partition for these parameters will be set to nan. Details: \n",
      "ValueError: gamma < 0\n",
      "\n",
      "  FitFailedWarning)\n",
      "C:\\Users\\xuchu\\anaconda3\\lib\\site-packages\\sklearn\\model_selection\\_validation.py:536: FitFailedWarning: Estimator fit failed. The score on this train-test partition for these parameters will be set to nan. Details: \n",
      "ValueError: gamma < 0\n",
      "\n",
      "  FitFailedWarning)\n",
      "C:\\Users\\xuchu\\anaconda3\\lib\\site-packages\\sklearn\\model_selection\\_validation.py:536: FitFailedWarning: Estimator fit failed. The score on this train-test partition for these parameters will be set to nan. Details: \n",
      "ValueError: gamma < 0\n",
      "\n",
      "  FitFailedWarning)\n",
      "C:\\Users\\xuchu\\anaconda3\\lib\\site-packages\\sklearn\\model_selection\\_validation.py:536: FitFailedWarning: Estimator fit failed. The score on this train-test partition for these parameters will be set to nan. Details: \n",
      "ValueError: gamma < 0\n",
      "\n",
      "  FitFailedWarning)\n",
      "C:\\Users\\xuchu\\anaconda3\\lib\\site-packages\\sklearn\\model_selection\\_validation.py:536: FitFailedWarning: Estimator fit failed. The score on this train-test partition for these parameters will be set to nan. Details: \n",
      "ValueError: gamma < 0\n",
      "\n",
      "  FitFailedWarning)\n",
      "C:\\Users\\xuchu\\anaconda3\\lib\\site-packages\\sklearn\\model_selection\\_validation.py:536: FitFailedWarning: Estimator fit failed. The score on this train-test partition for these parameters will be set to nan. Details: \n",
      "ValueError: gamma < 0\n",
      "\n",
      "  FitFailedWarning)\n",
      "C:\\Users\\xuchu\\anaconda3\\lib\\site-packages\\sklearn\\model_selection\\_validation.py:536: FitFailedWarning: Estimator fit failed. The score on this train-test partition for these parameters will be set to nan. Details: \n",
      "ValueError: gamma < 0\n",
      "\n",
      "  FitFailedWarning)\n",
      "C:\\Users\\xuchu\\anaconda3\\lib\\site-packages\\sklearn\\model_selection\\_validation.py:536: FitFailedWarning: Estimator fit failed. The score on this train-test partition for these parameters will be set to nan. Details: \n",
      "ValueError: gamma < 0\n",
      "\n",
      "  FitFailedWarning)\n",
      "C:\\Users\\xuchu\\anaconda3\\lib\\site-packages\\sklearn\\model_selection\\_validation.py:536: FitFailedWarning: Estimator fit failed. The score on this train-test partition for these parameters will be set to nan. Details: \n",
      "ValueError: gamma < 0\n",
      "\n",
      "  FitFailedWarning)\n",
      "C:\\Users\\xuchu\\anaconda3\\lib\\site-packages\\sklearn\\model_selection\\_validation.py:536: FitFailedWarning: Estimator fit failed. The score on this train-test partition for these parameters will be set to nan. Details: \n",
      "ValueError: gamma < 0\n",
      "\n",
      "  FitFailedWarning)\n",
      "C:\\Users\\xuchu\\anaconda3\\lib\\site-packages\\sklearn\\model_selection\\_validation.py:536: FitFailedWarning: Estimator fit failed. The score on this train-test partition for these parameters will be set to nan. Details: \n",
      "ValueError: gamma < 0\n",
      "\n",
      "  FitFailedWarning)\n",
      "C:\\Users\\xuchu\\anaconda3\\lib\\site-packages\\sklearn\\model_selection\\_validation.py:536: FitFailedWarning: Estimator fit failed. The score on this train-test partition for these parameters will be set to nan. Details: \n",
      "ValueError: gamma < 0\n",
      "\n",
      "  FitFailedWarning)\n",
      "C:\\Users\\xuchu\\anaconda3\\lib\\site-packages\\sklearn\\model_selection\\_validation.py:536: FitFailedWarning: Estimator fit failed. The score on this train-test partition for these parameters will be set to nan. Details: \n",
      "ValueError: gamma < 0\n",
      "\n",
      "  FitFailedWarning)\n",
      "C:\\Users\\xuchu\\anaconda3\\lib\\site-packages\\sklearn\\model_selection\\_validation.py:536: FitFailedWarning: Estimator fit failed. The score on this train-test partition for these parameters will be set to nan. Details: \n",
      "ValueError: gamma < 0\n",
      "\n",
      "  FitFailedWarning)\n",
      "C:\\Users\\xuchu\\anaconda3\\lib\\site-packages\\sklearn\\model_selection\\_validation.py:536: FitFailedWarning: Estimator fit failed. The score on this train-test partition for these parameters will be set to nan. Details: \n",
      "ValueError: gamma < 0\n",
      "\n",
      "  FitFailedWarning)\n",
      "C:\\Users\\xuchu\\anaconda3\\lib\\site-packages\\sklearn\\model_selection\\_validation.py:536: FitFailedWarning: Estimator fit failed. The score on this train-test partition for these parameters will be set to nan. Details: \n",
      "ValueError: gamma < 0\n",
      "\n",
      "  FitFailedWarning)\n",
      "C:\\Users\\xuchu\\anaconda3\\lib\\site-packages\\sklearn\\model_selection\\_validation.py:536: FitFailedWarning: Estimator fit failed. The score on this train-test partition for these parameters will be set to nan. Details: \n",
      "ValueError: gamma < 0\n",
      "\n",
      "  FitFailedWarning)\n",
      "C:\\Users\\xuchu\\anaconda3\\lib\\site-packages\\sklearn\\model_selection\\_validation.py:536: FitFailedWarning: Estimator fit failed. The score on this train-test partition for these parameters will be set to nan. Details: \n",
      "ValueError: gamma < 0\n",
      "\n",
      "  FitFailedWarning)\n",
      "C:\\Users\\xuchu\\anaconda3\\lib\\site-packages\\sklearn\\model_selection\\_validation.py:536: FitFailedWarning: Estimator fit failed. The score on this train-test partition for these parameters will be set to nan. Details: \n",
      "ValueError: gamma < 0\n",
      "\n",
      "  FitFailedWarning)\n",
      "C:\\Users\\xuchu\\anaconda3\\lib\\site-packages\\sklearn\\model_selection\\_validation.py:536: FitFailedWarning: Estimator fit failed. The score on this train-test partition for these parameters will be set to nan. Details: \n",
      "ValueError: gamma < 0\n",
      "\n",
      "  FitFailedWarning)\n",
      "C:\\Users\\xuchu\\anaconda3\\lib\\site-packages\\sklearn\\model_selection\\_validation.py:536: FitFailedWarning: Estimator fit failed. The score on this train-test partition for these parameters will be set to nan. Details: \n",
      "ValueError: gamma < 0\n",
      "\n",
      "  FitFailedWarning)\n",
      "C:\\Users\\xuchu\\anaconda3\\lib\\site-packages\\sklearn\\model_selection\\_validation.py:536: FitFailedWarning: Estimator fit failed. The score on this train-test partition for these parameters will be set to nan. Details: \n",
      "ValueError: gamma < 0\n",
      "\n",
      "  FitFailedWarning)\n",
      "C:\\Users\\xuchu\\anaconda3\\lib\\site-packages\\sklearn\\model_selection\\_validation.py:536: FitFailedWarning: Estimator fit failed. The score on this train-test partition for these parameters will be set to nan. Details: \n",
      "ValueError: gamma < 0\n",
      "\n",
      "  FitFailedWarning)\n",
      "C:\\Users\\xuchu\\anaconda3\\lib\\site-packages\\sklearn\\model_selection\\_validation.py:536: FitFailedWarning: Estimator fit failed. The score on this train-test partition for these parameters will be set to nan. Details: \n",
      "ValueError: gamma < 0\n",
      "\n",
      "  FitFailedWarning)\n",
      "C:\\Users\\xuchu\\anaconda3\\lib\\site-packages\\sklearn\\model_selection\\_validation.py:536: FitFailedWarning: Estimator fit failed. The score on this train-test partition for these parameters will be set to nan. Details: \n",
      "ValueError: gamma < 0\n",
      "\n",
      "  FitFailedWarning)\n",
      "C:\\Users\\xuchu\\anaconda3\\lib\\site-packages\\sklearn\\model_selection\\_validation.py:536: FitFailedWarning: Estimator fit failed. The score on this train-test partition for these parameters will be set to nan. Details: \n",
      "ValueError: gamma < 0\n",
      "\n",
      "  FitFailedWarning)\n"
     ]
    },
    {
     "name": "stderr",
     "output_type": "stream",
     "text": [
      "C:\\Users\\xuchu\\anaconda3\\lib\\site-packages\\sklearn\\model_selection\\_validation.py:536: FitFailedWarning: Estimator fit failed. The score on this train-test partition for these parameters will be set to nan. Details: \n",
      "ValueError: gamma < 0\n",
      "\n",
      "  FitFailedWarning)\n",
      "C:\\Users\\xuchu\\anaconda3\\lib\\site-packages\\sklearn\\model_selection\\_validation.py:536: FitFailedWarning: Estimator fit failed. The score on this train-test partition for these parameters will be set to nan. Details: \n",
      "ValueError: gamma < 0\n",
      "\n",
      "  FitFailedWarning)\n",
      "C:\\Users\\xuchu\\anaconda3\\lib\\site-packages\\sklearn\\model_selection\\_validation.py:536: FitFailedWarning: Estimator fit failed. The score on this train-test partition for these parameters will be set to nan. Details: \n",
      "ValueError: gamma < 0\n",
      "\n",
      "  FitFailedWarning)\n",
      "C:\\Users\\xuchu\\anaconda3\\lib\\site-packages\\sklearn\\model_selection\\_validation.py:536: FitFailedWarning: Estimator fit failed. The score on this train-test partition for these parameters will be set to nan. Details: \n",
      "ValueError: gamma < 0\n",
      "\n",
      "  FitFailedWarning)\n",
      "C:\\Users\\xuchu\\anaconda3\\lib\\site-packages\\sklearn\\model_selection\\_validation.py:536: FitFailedWarning: Estimator fit failed. The score on this train-test partition for these parameters will be set to nan. Details: \n",
      "ValueError: gamma < 0\n",
      "\n",
      "  FitFailedWarning)\n",
      "C:\\Users\\xuchu\\anaconda3\\lib\\site-packages\\sklearn\\model_selection\\_validation.py:536: FitFailedWarning: Estimator fit failed. The score on this train-test partition for these parameters will be set to nan. Details: \n",
      "ValueError: gamma < 0\n",
      "\n",
      "  FitFailedWarning)\n",
      "C:\\Users\\xuchu\\anaconda3\\lib\\site-packages\\sklearn\\model_selection\\_validation.py:536: FitFailedWarning: Estimator fit failed. The score on this train-test partition for these parameters will be set to nan. Details: \n",
      "ValueError: gamma < 0\n",
      "\n",
      "  FitFailedWarning)\n",
      "C:\\Users\\xuchu\\anaconda3\\lib\\site-packages\\sklearn\\model_selection\\_validation.py:536: FitFailedWarning: Estimator fit failed. The score on this train-test partition for these parameters will be set to nan. Details: \n",
      "ValueError: gamma < 0\n",
      "\n",
      "  FitFailedWarning)\n",
      "C:\\Users\\xuchu\\anaconda3\\lib\\site-packages\\sklearn\\model_selection\\_validation.py:536: FitFailedWarning: Estimator fit failed. The score on this train-test partition for these parameters will be set to nan. Details: \n",
      "ValueError: gamma < 0\n",
      "\n",
      "  FitFailedWarning)\n",
      "C:\\Users\\xuchu\\anaconda3\\lib\\site-packages\\sklearn\\model_selection\\_validation.py:536: FitFailedWarning: Estimator fit failed. The score on this train-test partition for these parameters will be set to nan. Details: \n",
      "ValueError: gamma < 0\n",
      "\n",
      "  FitFailedWarning)\n",
      "C:\\Users\\xuchu\\anaconda3\\lib\\site-packages\\sklearn\\model_selection\\_validation.py:536: FitFailedWarning: Estimator fit failed. The score on this train-test partition for these parameters will be set to nan. Details: \n",
      "ValueError: gamma < 0\n",
      "\n",
      "  FitFailedWarning)\n",
      "C:\\Users\\xuchu\\anaconda3\\lib\\site-packages\\sklearn\\model_selection\\_validation.py:536: FitFailedWarning: Estimator fit failed. The score on this train-test partition for these parameters will be set to nan. Details: \n",
      "ValueError: gamma < 0\n",
      "\n",
      "  FitFailedWarning)\n",
      "C:\\Users\\xuchu\\anaconda3\\lib\\site-packages\\sklearn\\model_selection\\_validation.py:536: FitFailedWarning: Estimator fit failed. The score on this train-test partition for these parameters will be set to nan. Details: \n",
      "ValueError: gamma < 0\n",
      "\n",
      "  FitFailedWarning)\n",
      "C:\\Users\\xuchu\\anaconda3\\lib\\site-packages\\sklearn\\model_selection\\_validation.py:536: FitFailedWarning: Estimator fit failed. The score on this train-test partition for these parameters will be set to nan. Details: \n",
      "ValueError: gamma < 0\n",
      "\n",
      "  FitFailedWarning)\n",
      "C:\\Users\\xuchu\\anaconda3\\lib\\site-packages\\sklearn\\model_selection\\_validation.py:536: FitFailedWarning: Estimator fit failed. The score on this train-test partition for these parameters will be set to nan. Details: \n",
      "ValueError: gamma < 0\n",
      "\n",
      "  FitFailedWarning)\n",
      "C:\\Users\\xuchu\\anaconda3\\lib\\site-packages\\sklearn\\model_selection\\_validation.py:536: FitFailedWarning: Estimator fit failed. The score on this train-test partition for these parameters will be set to nan. Details: \n",
      "ValueError: gamma < 0\n",
      "\n",
      "  FitFailedWarning)\n",
      "C:\\Users\\xuchu\\anaconda3\\lib\\site-packages\\sklearn\\model_selection\\_validation.py:536: FitFailedWarning: Estimator fit failed. The score on this train-test partition for these parameters will be set to nan. Details: \n",
      "ValueError: gamma < 0\n",
      "\n",
      "  FitFailedWarning)\n",
      "C:\\Users\\xuchu\\anaconda3\\lib\\site-packages\\sklearn\\model_selection\\_validation.py:536: FitFailedWarning: Estimator fit failed. The score on this train-test partition for these parameters will be set to nan. Details: \n",
      "ValueError: gamma < 0\n",
      "\n",
      "  FitFailedWarning)\n",
      "C:\\Users\\xuchu\\anaconda3\\lib\\site-packages\\sklearn\\model_selection\\_validation.py:536: FitFailedWarning: Estimator fit failed. The score on this train-test partition for these parameters will be set to nan. Details: \n",
      "ValueError: gamma < 0\n",
      "\n",
      "  FitFailedWarning)\n",
      "C:\\Users\\xuchu\\anaconda3\\lib\\site-packages\\sklearn\\model_selection\\_validation.py:536: FitFailedWarning: Estimator fit failed. The score on this train-test partition for these parameters will be set to nan. Details: \n",
      "ValueError: gamma < 0\n",
      "\n",
      "  FitFailedWarning)\n",
      "C:\\Users\\xuchu\\anaconda3\\lib\\site-packages\\sklearn\\model_selection\\_validation.py:536: FitFailedWarning: Estimator fit failed. The score on this train-test partition for these parameters will be set to nan. Details: \n",
      "ValueError: gamma < 0\n",
      "\n",
      "  FitFailedWarning)\n",
      "C:\\Users\\xuchu\\anaconda3\\lib\\site-packages\\sklearn\\model_selection\\_validation.py:536: FitFailedWarning: Estimator fit failed. The score on this train-test partition for these parameters will be set to nan. Details: \n",
      "ValueError: gamma < 0\n",
      "\n",
      "  FitFailedWarning)\n",
      "C:\\Users\\xuchu\\anaconda3\\lib\\site-packages\\sklearn\\model_selection\\_validation.py:536: FitFailedWarning: Estimator fit failed. The score on this train-test partition for these parameters will be set to nan. Details: \n",
      "ValueError: gamma < 0\n",
      "\n",
      "  FitFailedWarning)\n",
      "C:\\Users\\xuchu\\anaconda3\\lib\\site-packages\\sklearn\\model_selection\\_validation.py:536: FitFailedWarning: Estimator fit failed. The score on this train-test partition for these parameters will be set to nan. Details: \n",
      "ValueError: gamma < 0\n",
      "\n",
      "  FitFailedWarning)\n",
      "C:\\Users\\xuchu\\anaconda3\\lib\\site-packages\\sklearn\\model_selection\\_validation.py:536: FitFailedWarning: Estimator fit failed. The score on this train-test partition for these parameters will be set to nan. Details: \n",
      "ValueError: gamma < 0\n",
      "\n",
      "  FitFailedWarning)\n",
      "C:\\Users\\xuchu\\anaconda3\\lib\\site-packages\\sklearn\\model_selection\\_validation.py:536: FitFailedWarning: Estimator fit failed. The score on this train-test partition for these parameters will be set to nan. Details: \n",
      "ValueError: gamma < 0\n",
      "\n",
      "  FitFailedWarning)\n",
      "C:\\Users\\xuchu\\anaconda3\\lib\\site-packages\\sklearn\\model_selection\\_validation.py:536: FitFailedWarning: Estimator fit failed. The score on this train-test partition for these parameters will be set to nan. Details: \n",
      "ValueError: gamma < 0\n",
      "\n",
      "  FitFailedWarning)\n",
      "C:\\Users\\xuchu\\anaconda3\\lib\\site-packages\\sklearn\\model_selection\\_validation.py:536: FitFailedWarning: Estimator fit failed. The score on this train-test partition for these parameters will be set to nan. Details: \n",
      "ValueError: gamma < 0\n",
      "\n",
      "  FitFailedWarning)\n",
      "C:\\Users\\xuchu\\anaconda3\\lib\\site-packages\\sklearn\\model_selection\\_validation.py:536: FitFailedWarning: Estimator fit failed. The score on this train-test partition for these parameters will be set to nan. Details: \n",
      "ValueError: gamma < 0\n",
      "\n",
      "  FitFailedWarning)\n",
      "C:\\Users\\xuchu\\anaconda3\\lib\\site-packages\\sklearn\\model_selection\\_validation.py:536: FitFailedWarning: Estimator fit failed. The score on this train-test partition for these parameters will be set to nan. Details: \n",
      "ValueError: gamma < 0\n",
      "\n",
      "  FitFailedWarning)\n"
     ]
    }
   ],
   "source": [
    "## GridSearch\n",
    "from sklearn.model_selection import GridSearchCV\n",
    "parameters = [{'C':[math.pow(2,-5),math.pow(2,-1),math.pow(2,3),math.pow(2,7),math.pow(2,11)],'kernel':['linear']},\n",
    "              {'C':[math.pow(2,-5),math.pow(2,-1),math.pow(2,3),math.pow(2,7),math.pow(2,11)],'kernel':['rbf'],'gamma':[-11,-7,-3,1,5]}]\n",
    "grid_search_svm = GridSearchCV(estimator = svm_classifier,\n",
    "                              param_grid = parameters,\n",
    "                              scoring = 'roc_auc',\n",
    "                              cv = 5,\n",
    "                              )\n",
    "grid_search_svm = grid_search_svm.fit(X_train,np.ravel(y_train))"
   ]
  },
  {
   "cell_type": "code",
   "execution_count": 73,
   "metadata": {},
   "outputs": [
    {
     "data": {
      "text/plain": [
       "0.6649074082877744"
      ]
     },
     "execution_count": 73,
     "metadata": {},
     "output_type": "execute_result"
    }
   ],
   "source": [
    "grid_search_svm.best_score_"
   ]
  },
  {
   "cell_type": "code",
   "execution_count": 76,
   "metadata": {},
   "outputs": [
    {
     "data": {
      "text/plain": [
       "{'C': 0.5, 'kernel': 'linear'}"
      ]
     },
     "execution_count": 76,
     "metadata": {},
     "output_type": "execute_result"
    }
   ],
   "source": [
    "grid_search_svm.best_params_"
   ]
  },
  {
   "cell_type": "code",
   "execution_count": 79,
   "metadata": {},
   "outputs": [
    {
     "data": {
      "text/plain": [
       "{'mean_fit_time': array([2.01051998e-01, 2.28143263e-01, 1.16290698e+00, 1.11588257e+01,\n",
       "        1.48014627e+02, 7.12928772e-03, 6.99391365e-03, 6.62093163e-03,\n",
       "        9.62711239e-01, 9.63923168e-01, 6.84170723e-03, 7.58686066e-03,\n",
       "        7.59696960e-03, 1.03204546e+00, 1.04009633e+00, 6.18124008e-03,\n",
       "        5.98893166e-03, 6.25467300e-03, 1.16681471e+00, 1.28024468e+00,\n",
       "        6.67486191e-03, 5.95588684e-03, 5.86690903e-03, 1.14136720e+00,\n",
       "        1.25552406e+00, 6.00209236e-03, 6.30660057e-03, 6.77223206e-03,\n",
       "        1.14478669e+00, 1.25556922e+00]),\n",
       " 'std_fit_time': array([2.51907827e-02, 7.36439199e-03, 8.64865316e-02, 3.00303921e-01,\n",
       "        3.09181720e+00, 1.18384868e-03, 1.88411630e-05, 8.03361744e-04,\n",
       "        2.09929741e-02, 1.85356564e-02, 9.22978971e-04, 1.17848304e-03,\n",
       "        7.99782236e-04, 2.43882365e-02, 3.41105196e-02, 7.18808221e-04,\n",
       "        8.15724667e-04, 1.27127460e-03, 6.72946513e-03, 2.13394182e-02,\n",
       "        9.58066857e-04, 5.27181044e-04, 1.06384814e-03, 2.88760811e-02,\n",
       "        2.51079625e-02, 6.53886668e-04, 4.04149448e-04, 1.00887604e-03,\n",
       "        2.38958784e-02, 4.14328839e-02]),\n",
       " 'mean_score_time': array([0.04611287, 0.04358072, 0.08741217, 0.10281935, 0.09394093,\n",
       "        0.        , 0.        , 0.        , 0.19356995, 0.2021358 ,\n",
       "        0.        , 0.        , 0.        , 0.20352168, 0.20374069,\n",
       "        0.        , 0.        , 0.        , 0.20769019, 0.2098906 ,\n",
       "        0.        , 0.        , 0.        , 0.20121531, 0.20411139,\n",
       "        0.        , 0.        , 0.        , 0.19881959, 0.20530138]),\n",
       " 'std_score_time': array([0.00740468, 0.00125623, 0.01149948, 0.01158807, 0.00259815,\n",
       "        0.        , 0.        , 0.        , 0.00742178, 0.00590057,\n",
       "        0.        , 0.        , 0.        , 0.00974327, 0.01354956,\n",
       "        0.        , 0.        , 0.        , 0.01274886, 0.01638671,\n",
       "        0.        , 0.        , 0.        , 0.00934725, 0.00833753,\n",
       "        0.        , 0.        , 0.        , 0.00317402, 0.01078409]),\n",
       " 'param_C': masked_array(data=[0.03125, 0.5, 8.0, 128.0, 2048.0, 0.03125, 0.03125,\n",
       "                    0.03125, 0.03125, 0.03125, 0.5, 0.5, 0.5, 0.5, 0.5,\n",
       "                    8.0, 8.0, 8.0, 8.0, 8.0, 128.0, 128.0, 128.0, 128.0,\n",
       "                    128.0, 2048.0, 2048.0, 2048.0, 2048.0, 2048.0],\n",
       "              mask=[False, False, False, False, False, False, False, False,\n",
       "                    False, False, False, False, False, False, False, False,\n",
       "                    False, False, False, False, False, False, False, False,\n",
       "                    False, False, False, False, False, False],\n",
       "        fill_value='?',\n",
       "             dtype=object),\n",
       " 'param_kernel': masked_array(data=['linear', 'linear', 'linear', 'linear', 'linear',\n",
       "                    'rbf', 'rbf', 'rbf', 'rbf', 'rbf', 'rbf', 'rbf', 'rbf',\n",
       "                    'rbf', 'rbf', 'rbf', 'rbf', 'rbf', 'rbf', 'rbf', 'rbf',\n",
       "                    'rbf', 'rbf', 'rbf', 'rbf', 'rbf', 'rbf', 'rbf', 'rbf',\n",
       "                    'rbf'],\n",
       "              mask=[False, False, False, False, False, False, False, False,\n",
       "                    False, False, False, False, False, False, False, False,\n",
       "                    False, False, False, False, False, False, False, False,\n",
       "                    False, False, False, False, False, False],\n",
       "        fill_value='?',\n",
       "             dtype=object),\n",
       " 'param_gamma': masked_array(data=[--, --, --, --, --, -11, -7, -3, 1, 5, -11, -7, -3, 1,\n",
       "                    5, -11, -7, -3, 1, 5, -11, -7, -3, 1, 5, -11, -7, -3,\n",
       "                    1, 5],\n",
       "              mask=[ True,  True,  True,  True,  True, False, False, False,\n",
       "                    False, False, False, False, False, False, False, False,\n",
       "                    False, False, False, False, False, False, False, False,\n",
       "                    False, False, False, False, False, False],\n",
       "        fill_value='?',\n",
       "             dtype=object),\n",
       " 'params': [{'C': 0.03125, 'kernel': 'linear'},\n",
       "  {'C': 0.5, 'kernel': 'linear'},\n",
       "  {'C': 8.0, 'kernel': 'linear'},\n",
       "  {'C': 128.0, 'kernel': 'linear'},\n",
       "  {'C': 2048.0, 'kernel': 'linear'},\n",
       "  {'C': 0.03125, 'gamma': -11, 'kernel': 'rbf'},\n",
       "  {'C': 0.03125, 'gamma': -7, 'kernel': 'rbf'},\n",
       "  {'C': 0.03125, 'gamma': -3, 'kernel': 'rbf'},\n",
       "  {'C': 0.03125, 'gamma': 1, 'kernel': 'rbf'},\n",
       "  {'C': 0.03125, 'gamma': 5, 'kernel': 'rbf'},\n",
       "  {'C': 0.5, 'gamma': -11, 'kernel': 'rbf'},\n",
       "  {'C': 0.5, 'gamma': -7, 'kernel': 'rbf'},\n",
       "  {'C': 0.5, 'gamma': -3, 'kernel': 'rbf'},\n",
       "  {'C': 0.5, 'gamma': 1, 'kernel': 'rbf'},\n",
       "  {'C': 0.5, 'gamma': 5, 'kernel': 'rbf'},\n",
       "  {'C': 8.0, 'gamma': -11, 'kernel': 'rbf'},\n",
       "  {'C': 8.0, 'gamma': -7, 'kernel': 'rbf'},\n",
       "  {'C': 8.0, 'gamma': -3, 'kernel': 'rbf'},\n",
       "  {'C': 8.0, 'gamma': 1, 'kernel': 'rbf'},\n",
       "  {'C': 8.0, 'gamma': 5, 'kernel': 'rbf'},\n",
       "  {'C': 128.0, 'gamma': -11, 'kernel': 'rbf'},\n",
       "  {'C': 128.0, 'gamma': -7, 'kernel': 'rbf'},\n",
       "  {'C': 128.0, 'gamma': -3, 'kernel': 'rbf'},\n",
       "  {'C': 128.0, 'gamma': 1, 'kernel': 'rbf'},\n",
       "  {'C': 128.0, 'gamma': 5, 'kernel': 'rbf'},\n",
       "  {'C': 2048.0, 'gamma': -11, 'kernel': 'rbf'},\n",
       "  {'C': 2048.0, 'gamma': -7, 'kernel': 'rbf'},\n",
       "  {'C': 2048.0, 'gamma': -3, 'kernel': 'rbf'},\n",
       "  {'C': 2048.0, 'gamma': 1, 'kernel': 'rbf'},\n",
       "  {'C': 2048.0, 'gamma': 5, 'kernel': 'rbf'}],\n",
       " 'split0_test_score': array([0.6974685 , 0.61348942, 0.63471595, 0.6238531 , 0.56129071,\n",
       "               nan,        nan,        nan, 0.72691942, 0.70986451,\n",
       "               nan,        nan,        nan, 0.725826  , 0.71470169,\n",
       "               nan,        nan,        nan, 0.72672926, 0.71571191,\n",
       "               nan,        nan,        nan, 0.72672926, 0.71571191,\n",
       "               nan,        nan,        nan, 0.72672926, 0.71571191]),\n",
       " 'split1_test_score': array([0.60404762, 0.69054762, 0.71692857, 0.60528571, 0.69634524,\n",
       "               nan,        nan,        nan, 0.62078571, 0.58688095,\n",
       "               nan,        nan,        nan, 0.62490476, 0.58447619,\n",
       "               nan,        nan,        nan, 0.6247381 , 0.59102381,\n",
       "               nan,        nan,        nan, 0.6247381 , 0.59102381,\n",
       "               nan,        nan,        nan, 0.6247381 , 0.59102381]),\n",
       " 'split2_test_score': array([0.64019048, 0.77159524, 0.69516667, 0.63790476, 0.56839286,\n",
       "               nan,        nan,        nan, 0.67421429, 0.62597619,\n",
       "               nan,        nan,        nan, 0.67380952, 0.62513095,\n",
       "               nan,        nan,        nan, 0.66911905, 0.61640476,\n",
       "               nan,        nan,        nan, 0.66911905, 0.61640476,\n",
       "               nan,        nan,        nan, 0.66911905, 0.61640476]),\n",
       " 'split3_test_score': array([0.63519048, 0.67138095, 0.6322381 , 0.7272619 , 0.60982143,\n",
       "               nan,        nan,        nan, 0.64459524, 0.59813095,\n",
       "               nan,        nan,        nan, 0.64654762, 0.59763095,\n",
       "               nan,        nan,        nan, 0.63764286, 0.60140476,\n",
       "               nan,        nan,        nan, 0.63764286, 0.60140476,\n",
       "               nan,        nan,        nan, 0.63764286, 0.60140476]),\n",
       " 'split4_test_score': array([0.65483333, 0.57752381, 0.57271429, 0.681     , 0.53408333,\n",
       "               nan,        nan,        nan, 0.63842857, 0.62441667,\n",
       "               nan,        nan,        nan, 0.64297619, 0.62489286,\n",
       "               nan,        nan,        nan, 0.64221429, 0.62536905,\n",
       "               nan,        nan,        nan, 0.64221429, 0.62536905,\n",
       "               nan,        nan,        nan, 0.64221429, 0.62538095]),\n",
       " 'mean_test_score': array([0.64634608, 0.66490741, 0.65035271, 0.6550611 , 0.59398671,\n",
       "               nan,        nan,        nan, 0.66098865, 0.62905385,\n",
       "               nan,        nan,        nan, 0.66281282, 0.62936653,\n",
       "               nan,        nan,        nan, 0.66008871, 0.62998286,\n",
       "               nan,        nan,        nan, 0.66008871, 0.62998286,\n",
       "               nan,        nan,        nan, 0.66008871, 0.62998524]),\n",
       " 'std_test_score': array([0.03045336, 0.06687499, 0.05107056, 0.04388998, 0.05664008,\n",
       "               nan,        nan,        nan, 0.03719075, 0.04311871,\n",
       "               nan,        nan,        nan, 0.03517573, 0.0454804 ,\n",
       "               nan,        nan,        nan, 0.03631938, 0.0444739 ,\n",
       "               nan,        nan,        nan, 0.03631938, 0.0444739 ,\n",
       "               nan,        nan,        nan, 0.03631938, 0.04447365]),\n",
       " 'rank_test_score': array([ 9,  1,  8,  7, 15, 24, 28, 16,  3, 14, 30, 20, 29,  2, 13, 27, 26,\n",
       "        25,  4, 11, 23, 22, 21,  4, 11, 19, 18, 17,  4, 10])}"
      ]
     },
     "execution_count": 79,
     "metadata": {},
     "output_type": "execute_result"
    }
   ],
   "source": [
    "grid_search_svm.cv_results_"
   ]
  },
  {
   "cell_type": "code",
   "execution_count": 80,
   "metadata": {},
   "outputs": [
    {
     "data": {
      "text/plain": [
       "SVC(C=0.5, break_ties=False, cache_size=200, class_weight=None, coef0=0.0,\n",
       "    decision_function_shape='ovr', degree=3, gamma='scale', kernel='linear',\n",
       "    max_iter=-1, probability=False, random_state=0, shrinking=True, tol=0.001,\n",
       "    verbose=False)"
      ]
     },
     "execution_count": 80,
     "metadata": {},
     "output_type": "execute_result"
    }
   ],
   "source": [
    "grid_search_svm.best_estimator_"
   ]
  },
  {
   "cell_type": "code",
   "execution_count": 81,
   "metadata": {},
   "outputs": [
    {
     "data": {
      "text/plain": [
       "1"
      ]
     },
     "execution_count": 81,
     "metadata": {},
     "output_type": "execute_result"
    }
   ],
   "source": [
    "grid_search_svm.best_index_"
   ]
  },
  {
   "cell_type": "code",
   "execution_count": 83,
   "metadata": {},
   "outputs": [
    {
     "data": {
      "text/plain": [
       "0.6446"
      ]
     },
     "execution_count": 83,
     "metadata": {},
     "output_type": "execute_result"
    }
   ],
   "source": [
    "(0.69+0.604+0.640+0.635+0.654)/5"
   ]
  },
  {
   "cell_type": "code",
   "execution_count": null,
   "metadata": {},
   "outputs": [],
   "source": []
  },
  {
   "cell_type": "code",
   "execution_count": null,
   "metadata": {},
   "outputs": [],
   "source": []
  }
 ],
 "metadata": {
  "kernelspec": {
   "display_name": "Python 3",
   "language": "python",
   "name": "python3"
  },
  "language_info": {
   "codemirror_mode": {
    "name": "ipython",
    "version": 3
   },
   "file_extension": ".py",
   "mimetype": "text/x-python",
   "name": "python",
   "nbconvert_exporter": "python",
   "pygments_lexer": "ipython3",
   "version": "3.8.5"
  }
 },
 "nbformat": 4,
 "nbformat_minor": 4
}
