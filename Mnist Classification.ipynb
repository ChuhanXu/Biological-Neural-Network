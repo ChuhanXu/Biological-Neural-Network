{
 "cells": [
  {
   "cell_type": "code",
   "execution_count": 1,
   "metadata": {},
   "outputs": [],
   "source": [
    "import tensorflow as tf\n",
    "from tensorflow import keras\n",
    "from tensorflow.keras import datasets,layers,optimizers"
   ]
  },
  {
   "cell_type": "code",
   "execution_count": 57,
   "metadata": {},
   "outputs": [],
   "source": [
    "import matplotlib\n",
    "from matplotlib import pyplot as plt\n",
    "#default parameters for plots\n",
    "matplotlib.rcParams['font.size'] = 20\n",
    "matplotlib.rcParams['figure.titlesize'] = 20\n",
    "matplotlib.rcParams['figure.figsize'] = [9, 7]\n",
    "#matplotlib.rcParams['font.family'] = ['STKaiTi']\n",
    "matplotlib.rcParams['axes.unicode_minus']=False "
   ]
  },
  {
   "cell_type": "code",
   "execution_count": 6,
   "metadata": {},
   "outputs": [],
   "source": [
    "import os"
   ]
  },
  {
   "cell_type": "code",
   "execution_count": 7,
   "metadata": {},
   "outputs": [],
   "source": [
    "#自定义预处理函数\n",
    "def preprocess(x,y):\n",
    "    print(x.shape,y.shape)\n",
    "    x = tf.cast(x, dtype = tf.float32) / 255.\n",
    "    x = tf.reshape(x, [-1,28*28])#打平\n",
    "    y = tf.cast(y, dtype = tf.int32)\n",
    "    y = tf.one_hot(y, depth=10)\n",
    "    return x,y"
   ]
  },
  {
   "cell_type": "code",
   "execution_count": 8,
   "metadata": {},
   "outputs": [
    {
     "name": "stdout",
     "output_type": "stream",
     "text": [
      "x: (60000, 28, 28) y: (60000,) x test: (10000, 28, 28) y test: [7 2 1 ... 4 5 6]\n"
     ]
    }
   ],
   "source": [
    "#加载minist 数据集\n",
    "(x,y),(x_test,y_test) = datasets.mnist.load_data()\n",
    "print('x:',x.shape,'y:',y.shape,'x test:',x_test.shape,'y test:',y_test)"
   ]
  },
  {
   "cell_type": "code",
   "execution_count": 9,
   "metadata": {},
   "outputs": [
    {
     "name": "stdout",
     "output_type": "stream",
     "text": [
      "(None, 28, 28) (None,)\n"
     ]
    }
   ],
   "source": [
    "#训练集\n",
    "#构建Dataset对象，将数据转换成Dataset 对象后，一般需要再添加一系列的数据集标准处理步骤，如随机打散，预处理，按批装载等\n",
    "batchsz = 512\n",
    "train_db = tf.data.Dataset.from_tensor_slices((x,y))\n",
    "train_db = train_db.shuffle(10000)#随机打散样本，不会打乱样本与标签映射关系\n",
    "train_db = train_db.batch(batchsz)#512 one batch\n",
    "train_db = train_db.map(preprocess)\n",
    "train_db = train_db.repeat(20)"
   ]
  },
  {
   "cell_type": "code",
   "execution_count": 10,
   "metadata": {},
   "outputs": [
    {
     "name": "stdout",
     "output_type": "stream",
     "text": [
      "(None, 28, 28) (None,)\n",
      "train sample: (512, 784) (512, 10)\n"
     ]
    }
   ],
   "source": [
    "#测试集\n",
    "test_db = tf.data.Dataset.from_tensor_slices((x_test, y_test))\n",
    "test_db = test_db.shuffle(1000).batch(batchsz).map(preprocess)\n",
    "x,y = next(iter(train_db))#从训练集中采样一个样本并观察 一个样本中有512组数据 784 = 28*28 打平后的结果\n",
    "print('train sample:', x.shape, y.shape)#（512 是使用one-hot做了预处理）"
   ]
  },
  {
   "cell_type": "code",
   "execution_count": 11,
   "metadata": {},
   "outputs": [
    {
     "name": "stdout",
     "output_type": "stream",
     "text": [
      "tf.Tensor(\n",
      "[0.         0.         0.         0.         0.         0.\n",
      " 0.         0.         0.         0.         0.         0.\n",
      " 0.         0.         0.         0.         0.         0.\n",
      " 0.         0.         0.         0.         0.         0.\n",
      " 0.         0.         0.         0.         0.         0.\n",
      " 0.         0.         0.         0.         0.         0.\n",
      " 0.         0.         0.         0.         0.         0.\n",
      " 0.         0.         0.         0.         0.         0.\n",
      " 0.         0.         0.         0.         0.         0.\n",
      " 0.         0.         0.         0.         0.         0.\n",
      " 0.         0.         0.         0.         0.         0.\n",
      " 0.         0.         0.         0.         0.         0.\n",
      " 0.         0.         0.         0.         0.         0.\n",
      " 0.         0.         0.         0.         0.         0.\n",
      " 0.         0.         0.         0.         0.         0.\n",
      " 0.         0.         0.         0.         0.         0.\n",
      " 0.         0.         0.         0.         0.         0.\n",
      " 0.         0.         0.         0.         0.         0.\n",
      " 0.         0.         0.         0.         0.         0.\n",
      " 0.         0.         0.         0.         0.         0.\n",
      " 0.         0.         0.         0.         0.         0.\n",
      " 0.         0.         0.         0.         0.         0.\n",
      " 0.         0.         0.         0.         0.         0.\n",
      " 0.         0.         0.         0.         0.         0.\n",
      " 0.         0.         0.         0.         0.         0.\n",
      " 0.         0.         0.         0.         0.         0.\n",
      " 0.         0.         0.         0.         0.         0.\n",
      " 0.         0.         0.         0.         0.         0.\n",
      " 0.         0.         0.         0.         0.         0.\n",
      " 0.         0.         0.6        0.8039216  0.7607843  1.\n",
      " 0.7058824  0.53333336 0.53333336 0.7490196  0.53333336 0.7490196\n",
      " 0.53333336 0.4509804  0.01960784 0.         0.         0.\n",
      " 0.         0.         0.         0.         0.         0.\n",
      " 0.         0.         0.         0.         0.         0.\n",
      " 0.74509805 0.99215686 0.99215686 0.99215686 0.99215686 0.99215686\n",
      " 0.99215686 0.99215686 0.99215686 0.99215686 0.99215686 0.99215686\n",
      " 0.34117648 0.         0.         0.         0.         0.\n",
      " 0.         0.         0.         0.         0.         0.\n",
      " 0.         0.         0.         0.         0.11372549 0.73333335\n",
      " 0.78431374 0.78431374 0.78431374 0.78431374 0.78431374 0.9607843\n",
      " 0.9019608  0.8901961  0.99215686 0.99215686 0.9098039  0.14117648\n",
      " 0.         0.         0.         0.         0.         0.\n",
      " 0.         0.         0.         0.         0.         0.\n",
      " 0.         0.         0.         0.         0.         0.\n",
      " 0.         0.         0.         0.21176471 0.14117648 0.16470589\n",
      " 0.99215686 0.99215686 0.99215686 0.20784314 0.         0.\n",
      " 0.         0.         0.         0.         0.         0.\n",
      " 0.         0.         0.         0.         0.         0.\n",
      " 0.         0.         0.         0.         0.         0.\n",
      " 0.         0.         0.         0.5882353  0.99215686 0.99215686\n",
      " 0.78431374 0.03921569 0.         0.         0.         0.\n",
      " 0.         0.         0.         0.         0.         0.\n",
      " 0.         0.         0.         0.         0.         0.\n",
      " 0.         0.         0.         0.         0.         0.\n",
      " 0.39607844 0.99215686 0.99215686 0.99215686 0.7372549  0.\n",
      " 0.         0.         0.         0.         0.         0.\n",
      " 0.         0.         0.         0.         0.         0.\n",
      " 0.         0.         0.         0.         0.         0.\n",
      " 0.         0.         0.         0.01960784 0.8862745  0.99215686\n",
      " 0.99215686 0.8901961  0.16078432 0.         0.         0.\n",
      " 0.         0.         0.         0.         0.         0.\n",
      " 0.         0.         0.         0.         0.         0.\n",
      " 0.         0.         0.         0.         0.         0.\n",
      " 0.03137255 0.8509804  0.99215686 0.99215686 0.9843137  0.3137255\n",
      " 0.         0.         0.         0.         0.         0.\n",
      " 0.         0.         0.         0.         0.         0.\n",
      " 0.         0.         0.         0.         0.         0.\n",
      " 0.         0.         0.         0.03921569 0.41568628 0.99215686\n",
      " 0.99215686 0.9843137  0.5176471  0.         0.         0.\n",
      " 0.         0.         0.         0.         0.         0.\n",
      " 0.         0.         0.         0.         0.         0.\n",
      " 0.         0.         0.         0.         0.         0.\n",
      " 0.         0.34509805 0.99215686 0.99215686 0.99215686 0.8392157\n",
      " 0.         0.         0.         0.         0.         0.\n",
      " 0.         0.         0.         0.         0.         0.\n",
      " 0.         0.         0.         0.         0.         0.\n",
      " 0.         0.         0.         0.         0.05098039 0.78431374\n",
      " 0.99215686 0.99215686 0.99215686 0.34509805 0.         0.\n",
      " 0.         0.         0.         0.         0.         0.\n",
      " 0.         0.         0.         0.         0.         0.\n",
      " 0.         0.         0.         0.         0.         0.\n",
      " 0.         0.         0.5529412  0.99215686 0.99215686 0.99215686\n",
      " 0.827451   0.01176471 0.         0.         0.         0.\n",
      " 0.         0.         0.         0.         0.         0.\n",
      " 0.         0.         0.         0.         0.         0.\n",
      " 0.         0.         0.         0.         0.         0.29411766\n",
      " 0.9607843  0.99215686 0.99215686 0.99215686 0.13333334 0.\n",
      " 0.         0.         0.         0.         0.         0.\n",
      " 0.         0.         0.         0.         0.         0.\n",
      " 0.         0.         0.         0.         0.         0.\n",
      " 0.         0.         0.02352941 0.9843137  0.99215686 0.99215686\n",
      " 0.98039216 0.38431373 0.00392157 0.         0.         0.\n",
      " 0.         0.         0.         0.         0.         0.\n",
      " 0.         0.         0.         0.         0.         0.\n",
      " 0.         0.         0.         0.         0.         0.05098039\n",
      " 0.5686275  0.99215686 0.99215686 0.9647059  0.39607844 0.\n",
      " 0.         0.         0.         0.         0.         0.\n",
      " 0.         0.         0.         0.         0.         0.\n",
      " 0.         0.         0.         0.         0.         0.\n",
      " 0.         0.         0.         0.41960785 0.99215686 0.99215686\n",
      " 0.8745098  0.40392157 0.         0.         0.         0.\n",
      " 0.         0.         0.         0.         0.         0.\n",
      " 0.         0.         0.         0.         0.         0.\n",
      " 0.         0.         0.         0.         0.         0.\n",
      " 0.         0.5372549  0.99215686 0.96862745 0.27450982 0.\n",
      " 0.         0.         0.         0.         0.         0.\n",
      " 0.         0.         0.         0.         0.         0.\n",
      " 0.         0.         0.         0.         0.         0.\n",
      " 0.         0.         0.         0.09411765 0.49019608 0.96862745\n",
      " 0.99215686 0.7490196  0.         0.         0.         0.\n",
      " 0.         0.         0.         0.         0.         0.\n",
      " 0.         0.         0.         0.         0.         0.\n",
      " 0.         0.         0.         0.         0.         0.\n",
      " 0.08627451 0.78039217 0.99215686 0.99215686 0.972549   0.0627451\n",
      " 0.         0.         0.         0.         0.         0.\n",
      " 0.         0.         0.         0.         0.         0.\n",
      " 0.         0.         0.         0.         0.         0.\n",
      " 0.         0.         0.         0.         0.01568628 0.5411765\n",
      " 0.99215686 0.3882353  0.06666667 0.         0.         0.\n",
      " 0.         0.         0.         0.         0.         0.\n",
      " 0.         0.         0.         0.         0.         0.\n",
      " 0.         0.         0.         0.         0.         0.\n",
      " 0.         0.         0.         0.         0.         0.\n",
      " 0.         0.         0.         0.         0.         0.\n",
      " 0.         0.         0.         0.         0.         0.\n",
      " 0.         0.         0.         0.         0.         0.\n",
      " 0.         0.         0.         0.         0.         0.\n",
      " 0.         0.         0.         0.         0.         0.\n",
      " 0.         0.         0.         0.         0.         0.\n",
      " 0.         0.         0.         0.         0.         0.\n",
      " 0.         0.         0.         0.        ], shape=(784,), dtype=float32) tf.Tensor([0. 0. 0. 0. 0. 0. 0. 1. 0. 0.], shape=(10,), dtype=float32)\n"
     ]
    }
   ],
   "source": [
    "print(x[0], y[0])"
   ]
  },
  {
   "cell_type": "code",
   "execution_count": 61,
   "metadata": {},
   "outputs": [],
   "source": [
    "def main():\n",
    "    lr = 1e-2\n",
    "    accs,losses=[],[]\n",
    "    # 784 => 512\n",
    "    w1, b1 = tf.Variable(tf.random.normal([784, 256], stddev=0.1)), tf.Variable(tf.zeros([256]))\n",
    "    # 512 => 256\n",
    "    w2, b2 = tf.Variable(tf.random.normal([256, 128], stddev=0.1)), tf.Variable(tf.zeros([128]))\n",
    "    # 256 => 10\n",
    "    w3, b3 = tf.Variable(tf.random.normal([128, 10], stddev=0.1)), tf.Variable(tf.zeros([10]))\n",
    "    \n",
    "    for step,(x,y) in enumerate(train_db):\n",
    "        x = tf.reshape(x,(-1,784))\n",
    "        \n",
    "        with tf.GradientTape() as tape:\n",
    "            \n",
    "            h1 = x @ w1 + b1\n",
    "            h1 = tf.nn.relu(h1)\n",
    "            \n",
    "            h2 = h1 @ w2 + b2\n",
    "            h2 = tf.nn.relu(h2)\n",
    "            \n",
    "            out = h2 @ w3 + b3\n",
    "            \n",
    "            #compute loss\n",
    "            loss = tf.square(y-out)\n",
    "            loss = tf.reduce_mean(loss)\n",
    "         \n",
    "            \n",
    "        # derivation\n",
    "        grads = tape.gradient(loss, [w1, b1, w2, b2, w3, b3]) \n",
    "        for p, g in zip([w1, b1, w2, b2, w3, b3], grads):\n",
    "            p.assign_sub(lr * g)#update parameter\n",
    "            \n",
    "        if step % 80 == 0:\n",
    "            print(step,'loss:',float(loss))\n",
    "            losses.append(float(loss))\n",
    "        \n",
    "        if step % 80 == 0:\n",
    "            total,total_correct = 0. , 0\n",
    "            \n",
    "            for x, y in test_db:\n",
    "                # layer1.\n",
    "                h1 = x @ w1 + b1\n",
    "                h1 = tf.nn.relu(h1)\n",
    "                # layer2\n",
    "                h2 = h1 @ w2 + b2\n",
    "                h2 = tf.nn.relu(h2)\n",
    "                # output\n",
    "                out = h2 @ w3 + b3\n",
    "                # [b, 10] => [b]\n",
    "                pred = tf.argmax(out, axis=1)\n",
    "                # convert one_hot y to number y\n",
    "                y = tf.argmax(y, axis=1)\n",
    "                # bool type\n",
    "                correct = tf.equal(pred, y)\n",
    "                # bool tensor => int tensor => numpy\n",
    "                total_correct += tf.reduce_sum(tf.cast(correct, dtype=tf.int32)).numpy()\n",
    "                total += x.shape[0]\n",
    "            print(step, 'Evaluate Acc:', total_correct/total)\n",
    "\n",
    "            accs.append(total_correct/total)\n",
    "    plt.figure()\n",
    "    x = [i*80 for i in range(len(losses))]\n",
    "    plt.plot(x, losses, color='C0', marker='s', label='Train')\n",
    "    plt.ylabel('MSE')\n",
    "    plt.xlabel('Step')\n",
    "    plt.legend()\n",
    "    plt.savefig('train.svg')\n",
    "\n",
    "    plt.figure()\n",
    "    plt.plot(x, accs, color='C1', marker='s', label='Test')\n",
    "    plt.ylabel('Accuracy')\n",
    "    plt.xlabel('Step')\n",
    "    plt.legend()\n",
    "    plt.savefig('test.svg')\n",
    "    \n",
    "    "
   ]
  },
  {
   "cell_type": "code",
   "execution_count": 62,
   "metadata": {},
   "outputs": [
    {
     "name": "stdout",
     "output_type": "stream",
     "text": [
      "0 loss: 0.5749980807304382\n",
      "0 Evaluate Acc: 0.109\n",
      "80 loss: 0.18507882952690125\n",
      "80 Evaluate Acc: 0.2177\n",
      "160 loss: 0.14840109646320343\n",
      "160 Evaluate Acc: 0.3175\n",
      "240 loss: 0.1194458156824112\n",
      "240 Evaluate Acc: 0.3951\n",
      "320 loss: 0.11540504544973373\n",
      "320 Evaluate Acc: 0.4524\n",
      "400 loss: 0.10300364345312119\n",
      "400 Evaluate Acc: 0.4958\n",
      "480 loss: 0.09229107201099396\n",
      "480 Evaluate Acc: 0.5286\n",
      "560 loss: 0.0948304757475853\n",
      "560 Evaluate Acc: 0.5546\n",
      "640 loss: 0.08960755914449692\n",
      "640 Evaluate Acc: 0.5767\n",
      "720 loss: 0.08070846647024155\n",
      "720 Evaluate Acc: 0.593\n",
      "800 loss: 0.08015891164541245\n",
      "800 Evaluate Acc: 0.6112\n",
      "880 loss: 0.07828794419765472\n",
      "880 Evaluate Acc: 0.6231\n",
      "960 loss: 0.07617965340614319\n",
      "960 Evaluate Acc: 0.6365\n",
      "1040 loss: 0.0705631822347641\n",
      "1040 Evaluate Acc: 0.6496\n",
      "1120 loss: 0.07409576326608658\n",
      "1120 Evaluate Acc: 0.6593\n",
      "1200 loss: 0.07043208926916122\n",
      "1200 Evaluate Acc: 0.6689\n",
      "1280 loss: 0.06825431436300278\n",
      "1280 Evaluate Acc: 0.6778\n",
      "1360 loss: 0.06802282482385635\n",
      "1360 Evaluate Acc: 0.6859\n",
      "1440 loss: 0.06527362018823624\n",
      "1440 Evaluate Acc: 0.6956\n",
      "1520 loss: 0.06463009119033813\n",
      "1520 Evaluate Acc: 0.7041\n",
      "1600 loss: 0.0637224093079567\n",
      "1600 Evaluate Acc: 0.7094\n",
      "1680 loss: 0.06688724458217621\n",
      "1680 Evaluate Acc: 0.7158\n",
      "1760 loss: 0.06041783094406128\n",
      "1760 Evaluate Acc: 0.7218\n",
      "1840 loss: 0.060959767550230026\n",
      "1840 Evaluate Acc: 0.7278\n",
      "1920 loss: 0.06169309467077255\n",
      "1920 Evaluate Acc: 0.7331\n",
      "2000 loss: 0.0571453757584095\n",
      "2000 Evaluate Acc: 0.7389\n",
      "2080 loss: 0.059938181191682816\n",
      "2080 Evaluate Acc: 0.7438\n",
      "2160 loss: 0.05485223978757858\n",
      "2160 Evaluate Acc: 0.7471\n",
      "2240 loss: 0.05564742535352707\n",
      "2240 Evaluate Acc: 0.7521\n",
      "2320 loss: 0.05574638769030571\n",
      "2320 Evaluate Acc: 0.7563\n"
     ]
    },
    {
     "data": {
      "image/png": "[encoded data removed]",
      "text/plain": [
       "<Figure size 648x504 with 1 Axes>"
      ]
     },
     "metadata": {
      "needs_background": "light"
     },
     "output_type": "display_data"
    },
    {
     "data": {
      "image/png": "[encoded data removed]",
      "text/plain": [
       "<Figure size 648x504 with 1 Axes>"
      ]
     },
     "metadata": {
      "needs_background": "light"
     },
     "output_type": "display_data"
    }
   ],
   "source": [
    "if __name__ == '__main__':\n",
    "    main()"
   ]
  },
  {
   "cell_type": "code",
   "execution_count": null,
   "metadata": {},
   "outputs": [],
   "source": []
  },
  {
   "cell_type": "code",
   "execution_count": null,
   "metadata": {},
   "outputs": [],
   "source": []
  },
  {
   "cell_type": "code",
   "execution_count": null,
   "metadata": {},
   "outputs": [],
   "source": []
  },
  {
   "cell_type": "code",
   "execution_count": null,
   "metadata": {},
   "outputs": [],
   "source": []
  }
 ],
 "metadata": {
  "kernelspec": {
   "display_name": "tfvenv",
   "language": "python",
   "name": "tfvenv"
  },
  "language_info": {
   "codemirror_mode": {
    "name": "ipython",
    "version": 3
   },
   "file_extension": ".py",
   "mimetype": "text/x-python",
   "name": "python",
   "nbconvert_exporter": "python",
   "pygments_lexer": "ipython3",
   "version": "3.7.6"
  }
 },
 "nbformat": 4,
 "nbformat_minor": 4
}
